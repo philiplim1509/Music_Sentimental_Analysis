{
 "cells": [
  {
   "cell_type": "code",
   "execution_count": 1,
   "metadata": {},
   "outputs": [
    {
     "name": "stderr",
     "output_type": "stream",
     "text": [
      "c:\\Users\\Alex\\anaconda3\\envs\\pt\\Lib\\site-packages\\tqdm\\auto.py:21: TqdmWarning: IProgress not found. Please update jupyter and ipywidgets. See https://ipywidgets.readthedocs.io/en/stable/user_install.html\n",
      "  from .autonotebook import tqdm as notebook_tqdm\n"
     ]
    },
    {
     "name": "stdout",
     "output_type": "stream",
     "text": [
      "WARNING:tensorflow:From c:\\Users\\Alex\\anaconda3\\envs\\pt\\Lib\\site-packages\\tf_keras\\src\\losses.py:2976: The name tf.losses.sparse_softmax_cross_entropy is deprecated. Please use tf.compat.v1.losses.sparse_softmax_cross_entropy instead.\n",
      "\n"
     ]
    }
   ],
   "source": [
    "import pandas as pd\n",
    "import numpy as np\n",
    "import tensorflow as tf\n",
    "import torch.nn as nn\n",
    "import re\n",
    "import os\n",
    "import zipfile\n",
    "import torch\n",
    "import optuna\n",
    "from nltk.corpus import stopwords\n",
    "from sklearn.model_selection import train_test_split\n",
    "from sklearn import metrics\n",
    "from tqdm import tqdm\n",
    "from torch.utils.data import DataLoader, Dataset\n",
    "from tensorflow.keras.preprocessing.text import Tokenizer\n",
    "from tensorflow.keras.preprocessing.sequence import pad_sequences\n",
    "from tensorflow.keras.utils import to_categorical\n",
    "from keras_tuner import RandomSearch, HyperParameters, Objective\n",
    "from tensorflow.keras.models import Model\n",
    "from tensorflow.keras.layers import Input, Dense, Dropout, Embedding, Flatten, Conv1D, MaxPooling1D, Bidirectional, LSTM, Layer\n",
    "from tensorflow.keras.optimizers import Adam, RMSprop, SGD\n",
    "from tensorflow.keras.callbacks import EarlyStopping, LearningRateScheduler, Callback\n",
    "from transformers import BertTokenizer, TFBertModel, BertModel, get_linear_schedule_with_warmup, WarmUp, AdamW, RobertaTokenizer, TFRobertaModel, RobertaModel, XLMRobertaTokenizer, XLMRobertaModel, AutoTokenizer, logging"
   ]
  },
  {
   "cell_type": "code",
   "execution_count": 2,
   "metadata": {},
   "outputs": [],
   "source": [
    "# 解压 cleaned_lyrics.zip 文件\n",
    "with zipfile.ZipFile('sampled.zip', 'r') as zip_ref:\n",
    "    zip_ref.extractall('sampled')\n",
    "\n",
    "# 获取所有歌词文件的路径\n",
    "lyrics_files = {os.path.splitext(f)[0]: os.path.join('sampled', f) for f in os.listdir('sampled')}\n",
    "\n",
    "# 读取 filtered_dataset.csv 文件\n",
    "data = pd.read_csv('sampled_dataset.csv')\n",
    "\n",
    "def read_lyrics(record_id):\n",
    "    file_path = lyrics_files.get(str(record_id))\n",
    "    if file_path and os.path.exists(file_path):\n",
    "        with open(file_path, 'r', encoding='utf-8') as file:\n",
    "            return file.read()\n",
    "    return ''\n",
    "\n",
    "# 读取歌词并添加到数据框中\n",
    "data['lyrics'] = data['record_id'].apply(read_lyrics)\n"
   ]
  },
  {
   "cell_type": "code",
   "execution_count": null,
   "metadata": {},
   "outputs": [],
   "source": [
    "data"
   ]
  },
  {
   "cell_type": "markdown",
   "metadata": {},
   "source": [
    "# DNN Baseline"
   ]
  },
  {
   "cell_type": "code",
   "execution_count": 3,
   "metadata": {},
   "outputs": [],
   "source": [
    "# 使用 Tokenizer 处理文本\n",
    "max_words = 5000\n",
    "max_len = 128\n",
    "\n",
    "tokenizer = Tokenizer(num_words=max_words)\n",
    "tokenizer.fit_on_texts(data['lyrics'])\n",
    "sequences = tokenizer.texts_to_sequences(data['lyrics'])\n",
    "X_lyrics = pad_sequences(sequences, maxlen=max_len)\n",
    "\n",
    "# 准备标签\n",
    "y_valence = to_categorical(data['valence_bin'].values)\n",
    "y_energy = to_categorical(data['energy_bin'].values)\n",
    "y_danceability = to_categorical(data['danceability_bin'].values)\n",
    "\n",
    "# 拆分数据集\n",
    "X_train_val, X_test, y_train_val_valence, y_test_valence, y_train_val_energy, y_test_energy, y_train_val_danceability, y_test_danceability = train_test_split(\n",
    "    X_lyrics, y_valence, y_energy, y_danceability, test_size=0.2, random_state=42)\n",
    "\n",
    "X_train, X_val, y_train_valence, y_val_valence, y_train_energy, y_val_energy, y_train_danceability, y_val_danceability = train_test_split(\n",
    "    X_train_val, y_train_val_valence, y_train_val_energy, y_train_val_danceability, test_size=0.2, random_state=42)\n"
   ]
  },
  {
   "cell_type": "code",
   "execution_count": null,
   "metadata": {},
   "outputs": [],
   "source": [
    "y_train_valence"
   ]
  },
  {
   "cell_type": "code",
   "execution_count": null,
   "metadata": {},
   "outputs": [],
   "source": [
    "X_train.shape"
   ]
  },
  {
   "cell_type": "code",
   "execution_count": null,
   "metadata": {},
   "outputs": [],
   "source": [
    "# max_len = X_train.shape[1]\n",
    "# max_words = len(tokenizer.word_index) + 1\n",
    "\n",
    "# inputs = Input(shape=(max_len,))\n",
    "\n",
    "# x = Embedding(input_dim=max_words, output_dim=128, input_length=max_len)(inputs)\n",
    "\n",
    "# x = Bidirectional(LSTM(64, return_sequences=True))(x)\n",
    "# x = Dropout(0.2)(x)\n",
    "\n",
    "# x = Bidirectional(LSTM(32))(x)\n",
    "# x = Dropout(0.2)(x)\n",
    "\n",
    "# outputs = Dense(3, activation='softmax')(x)\n",
    "\n",
    "# model = Model(inputs=inputs, outputs=outputs)\n",
    "\n",
    "# model.compile(optimizer='adam', loss='categorical_crossentropy', metrics=['accuracy'])"
   ]
  },
  {
   "cell_type": "code",
   "execution_count": 8,
   "metadata": {},
   "outputs": [],
   "source": [
    "from keras_tuner import RandomSearch, HyperParameters, Objective\n",
    "from keras.models import Model\n",
    "from keras.layers import Input, Dense, Dropout, Embedding, Flatten\n",
    "from keras.callbacks import EarlyStopping\n",
    "\n",
    "\n",
    "# 构建模型函数\n",
    "def build_model(hp):\n",
    "    inputs = Input(shape=(max_len,))\n",
    "    x = Embedding(input_dim=hp.Int('input_dim', min_value=1000, max_value=10000, step=1000),\n",
    "                  output_dim=hp.Int('output_dim', min_value=32, max_value=128, step=32))(inputs)\n",
    "    x = Flatten()(x)\n",
    "\n",
    "    num_layers = hp.Int('num_layers', min_value=1, max_value=5, step=1)\n",
    "    for i in range(num_layers):\n",
    "        if i == 0:\n",
    "            x = Dense(units=hp.Int(f'units_layer{i+1}', min_value=32, max_value=512, step=32), activation='relu')(x)\n",
    "        else:\n",
    "            x = Dense(units=hp.Int(f'units_layer{i+1}', min_value=32, max_value=512, step=32), activation='relu')(x)\n",
    "        x = Dropout(rate=hp.Float(f'dropout_layer{i+1}', min_value=0.0, max_value=0.5, step=0.1))(x)\n",
    "\n",
    "    x = Dense(units=hp.Int('units_final', min_value=32, max_value=512, step=32),\n",
    "              activation='relu',\n",
    "              kernel_regularizer=tf.keras.regularizers.l2(hp.Choice('l2_regularization', values=[0.0, 1e-4, 1e-3])),\n",
    "              kernel_initializer=hp.Choice('kernel_initializer', values=['glorot_uniform', 'he_normal']))(x)\n",
    "\n",
    "    \n",
    "    output_valence = Dense(y_valence.shape[1], activation='softmax', name='valence_output')(x)\n",
    "    output_energy = Dense(y_energy.shape[1], activation='softmax', name='energy_output')(x)\n",
    "    output_danceability = Dense(y_danceability.shape[1], activation='softmax', name='danceability_output')(x)\n",
    "    \n",
    "    model = Model(inputs=inputs, outputs=[output_valence, output_energy, output_danceability])\n",
    "\n",
    "    optimizer_choice = hp.Choice('optimizer', values=['adam', 'rmsprop', 'sgd'])\n",
    "    learning_rate = hp.Choice('learning_rate', values=[1e-3, 1e-4, 1e-5])\n",
    "\n",
    "    if optimizer_choice == 'adam':\n",
    "        optimizer = Adam(learning_rate=learning_rate)\n",
    "    elif optimizer_choice == 'rmsprop':\n",
    "        optimizer = RMSprop(learning_rate=learning_rate)\n",
    "    else:\n",
    "        optimizer = SGD(learning_rate=learning_rate)\n",
    "\n",
    "    model.compile(optimizer=optimizer,\n",
    "                  loss={'valence_output': 'categorical_crossentropy', \n",
    "                        'energy_output': 'categorical_crossentropy', \n",
    "                        'danceability_output': 'categorical_crossentropy'},\n",
    "                  metrics={'valence_output': 'accuracy', \n",
    "                           'energy_output': 'accuracy', \n",
    "                           'danceability_output': 'accuracy'})\n",
    "    return model\n",
    "\n",
    "# 超参数调优\n",
    "dnn_tuner = RandomSearch(\n",
    "    build_model,\n",
    "    objective=Objective('val_valence_output_accuracy', direction='max'),\n",
    "    max_trials=10,\n",
    "    executions_per_trial=1,\n",
    "    directory='tuner_dir',\n",
    "    project_name='dnn_mood_detection_600'\n",
    ")"
   ]
  },
  {
   "cell_type": "code",
   "execution_count": 9,
   "metadata": {},
   "outputs": [
    {
     "name": "stdout",
     "output_type": "stream",
     "text": [
      "Trial 10 Complete [00h 00m 01s]\n",
      "\n",
      "Best val_valence_output_accuracy So Far: 0.5520833134651184\n",
      "Total elapsed time: 00h 00m 22s\n",
      "{'input_dim': 9000, 'output_dim': 96, 'num_layers': 5, 'units_layer1': 96, 'dropout_layer1': 0.2, 'units_final': 384, 'l2_regularization': 0.0, 'kernel_initializer': 'glorot_uniform', 'optimizer': 'adam', 'learning_rate': 0.001, 'units_layer2': 32, 'dropout_layer2': 0.0, 'units_layer3': 32, 'dropout_layer3': 0.0, 'units_layer4': 32, 'dropout_layer4': 0.0, 'units_layer5': 32, 'dropout_layer5': 0.0}\n"
     ]
    },
    {
     "name": "stderr",
     "output_type": "stream",
     "text": [
      "c:\\Users\\Alex\\anaconda3\\envs\\pt\\Lib\\site-packages\\keras\\src\\saving\\saving_lib.py:415: UserWarning: Skipping variable loading for optimizer 'adam', because it has 2 variables whereas the saved optimizer has 40 variables. \n",
      "  saveable.load_own_variables(weights_store.get(inner_path))\n"
     ]
    }
   ],
   "source": [
    "# 启动调优过程\n",
    "dnn_tuner.search(X_train, [y_train_valence, y_train_energy, y_train_danceability], \n",
    "             epochs=20,\n",
    "             validation_data=(X_val, [y_val_valence, y_val_energy, y_val_danceability]), \n",
    "             callbacks=[EarlyStopping(patience=3)])\n",
    "\n",
    "# 获取最佳模型\n",
    "\n",
    "best_model_DNN = dnn_tuner.get_best_models(num_models=1)[0]\n",
    "best_hyperparameters_DNN = dnn_tuner.get_best_hyperparameters(num_trials=1)[0]\n",
    "print(best_hyperparameters_DNN.values)"
   ]
  },
  {
   "cell_type": "code",
   "execution_count": null,
   "metadata": {},
   "outputs": [],
   "source": [
    "# # 评估模型\n",
    "\n",
    "# loss, valence_output_loss, energy_output_loss, danceability_output_loss, accuracy_valence, accuracy_energy, accuracy_danceability = best_model.evaluate(X_test, [y_test_valence, y_test_energy, y_test_danceability])\n",
    "# print(f'Test Loss: {loss}, valence_output_loss: {valence_output_loss}, energy_output_loss: {energy_output_loss}, danceability_output_loss: {danceability_output_loss}, Test Accuracy Valence: {accuracy_valence}, Test Accuracy Energy: {accuracy_energy}, Test Accuracy Danceability: {accuracy_danceability}')"
   ]
  },
  {
   "cell_type": "code",
   "execution_count": null,
   "metadata": {},
   "outputs": [],
   "source": [
    "metrics = best_model_DNN.evaluate(X_test, [y_test_valence, y_test_energy, y_test_danceability])\n",
    "#print(f'Test Loss: {loss}, Test Accuracy Valence: {accuracy_valence}, Test Accuracy Energy: {accuracy_energy}, Test Accuracy Danceability: {accuracy_danceability}')\n",
    "print(metrics)"
   ]
  },
  {
   "cell_type": "markdown",
   "metadata": {},
   "source": [
    "# Bi-LSTM"
   ]
  },
  {
   "cell_type": "code",
   "execution_count": 10,
   "metadata": {},
   "outputs": [],
   "source": [
    "def build_model_LSTM(hp):\n",
    "    inputs = Input(shape=(max_len,))\n",
    "    \n",
    "    x = Embedding(input_dim=hp.Int('input_dim', min_value=5000, max_value=20000, step=1000),\n",
    "                output_dim=hp.Int('output_dim', min_value=64, max_value=256, step=32))(inputs)\n",
    "\n",
    "    for _ in range(hp.Int('num_lstm_layers', 1, 2)):\n",
    "        x = Bidirectional(LSTM(units=hp.Int('units_lstm', min_value=64, max_value=256, step=32),\n",
    "                            return_sequences=True))(x)\n",
    "        x = Dropout(rate=hp.Float('dropout_lstm', min_value=0.1, max_value=0.3, step=0.1))(x)\n",
    "\n",
    "    x = Bidirectional(LSTM(units=hp.Int('units_lstm', min_value=64, max_value=256, step=32),\n",
    "                        return_sequences=False))(x)\n",
    "    x = Dropout(rate=hp.Float('dropout_lstm', min_value=0.1, max_value=0.3, step=0.1))(x)\n",
    "\n",
    "    x = Dense(units=hp.Int('units_dense', min_value=64, max_value=256, step=32), activation='relu')(x)\n",
    "    x = Dropout(rate=hp.Float('dropout_dense', min_value=0.1, max_value=0.3, step=0.1))(x)\n",
    "    \n",
    "    output_valence = Dense(y_valence.shape[1], activation='softmax', name='valence_output')(x)\n",
    "    output_energy = Dense(y_energy.shape[1], activation='softmax', name='energy_output')(x)\n",
    "    output_danceability = Dense(y_danceability.shape[1], activation='softmax', name='danceability_output')(x)\n",
    "    \n",
    "    model = Model(inputs=inputs, outputs=[output_valence, output_energy, output_danceability])\n",
    "\n",
    "    optimizer_choice = hp.Choice('optimizer', values=['adam', 'rmsprop', 'sgd'])\n",
    "    learning_rate = hp.Choice('learning_rate', values=[1e-3, 1e-4, 1e-5])\n",
    "\n",
    "    if optimizer_choice == 'adam':\n",
    "        optimizer = Adam(learning_rate=learning_rate)\n",
    "    elif optimizer_choice == 'rmsprop':\n",
    "        optimizer = RMSprop(learning_rate=learning_rate)\n",
    "    else:\n",
    "        optimizer = SGD(learning_rate=learning_rate)\n",
    "\n",
    "    model.compile(optimizer=optimizer,\n",
    "                  loss={'valence_output': 'categorical_crossentropy', \n",
    "                        'energy_output': 'categorical_crossentropy', \n",
    "                        'danceability_output': 'categorical_crossentropy'},\n",
    "                  metrics={'valence_output': 'accuracy', \n",
    "                           'energy_output': 'accuracy', \n",
    "                           'danceability_output': 'accuracy'})\n",
    "    \n",
    "    return model"
   ]
  },
  {
   "cell_type": "code",
   "execution_count": 11,
   "metadata": {},
   "outputs": [
    {
     "name": "stdout",
     "output_type": "stream",
     "text": [
      "Trial 10 Complete [00h 01m 14s]\n",
      "val_valence_output_accuracy: 0.4479166567325592\n",
      "\n",
      "Best val_valence_output_accuracy So Far: 0.5\n",
      "Total elapsed time: 00h 06m 40s\n"
     ]
    }
   ],
   "source": [
    "tuner_LSTM = RandomSearch(\n",
    "    build_model_LSTM,\n",
    "    objective=Objective('val_valence_output_accuracy', direction='max'),\n",
    "    max_trials=10,\n",
    "    executions_per_trial=1,\n",
    "    directory='tuner_dir',\n",
    "    project_name='bi_lstm_mood_detection'\n",
    ")\n",
    "\n",
    "# Callbacks\n",
    "early_stopping = EarlyStopping(monitor='val_loss', patience=3)\n",
    "\n",
    "# Launch the search\n",
    "tuner_LSTM.search(X_train, [y_train_valence, y_train_energy, y_train_danceability], \n",
    "             epochs=20, \n",
    "             validation_data=(X_val, [y_val_valence, y_val_energy, y_val_danceability]), \n",
    "             callbacks=[early_stopping])"
   ]
  },
  {
   "cell_type": "code",
   "execution_count": 93,
   "metadata": {},
   "outputs": [
    {
     "name": "stdout",
     "output_type": "stream",
     "text": [
      "{'input_dim': 7000, 'output_dim': 224, 'num_lstm_layers': 2, 'units_lstm': 256, 'dropout_lstm': 0.1, 'units_dense': 224, 'dropout_dense': 0.1, 'optimizer': 'adam', 'learning_rate': 0.0001}\n"
     ]
    },
    {
     "name": "stderr",
     "output_type": "stream",
     "text": [
      "c:\\Users\\Alex\\anaconda3\\envs\\pt\\Lib\\site-packages\\keras\\src\\saving\\saving_lib.py:415: UserWarning: Skipping variable loading for optimizer 'adam', because it has 2 variables whereas the saved optimizer has 56 variables. \n",
      "  saveable.load_own_variables(weights_store.get(inner_path))\n"
     ]
    },
    {
     "ename": "",
     "evalue": "",
     "output_type": "error",
     "traceback": [
      "\u001b[1;31mThe Kernel crashed while executing code in the current cell or a previous cell. \n",
      "\u001b[1;31mPlease review the code in the cell(s) to identify a possible cause of the failure. \n",
      "\u001b[1;31mClick <a href='https://aka.ms/vscodeJupyterKernelCrash'>here</a> for more info. \n",
      "\u001b[1;31mView Jupyter <a href='command:jupyter.viewOutput'>log</a> for further details."
     ]
    }
   ],
   "source": [
    "best_model_LSTM = tuner_LSTM.get_best_models(num_models=1)[0]\n",
    "best_hyperparameters_DNN = tuner_LSTM.get_best_hyperparameters(num_trials=1)[0]\n",
    "print(best_hyperparameters_DNN.values)"
   ]
  },
  {
   "cell_type": "code",
   "execution_count": 12,
   "metadata": {},
   "outputs": [
    {
     "name": "stderr",
     "output_type": "stream",
     "text": [
      "c:\\Users\\Alex\\anaconda3\\envs\\pt\\Lib\\site-packages\\keras\\src\\saving\\saving_lib.py:415: UserWarning: Skipping variable loading for optimizer 'adam', because it has 2 variables whereas the saved optimizer has 56 variables. \n",
      "  saveable.load_own_variables(weights_store.get(inner_path))\n"
     ]
    },
    {
     "data": {
      "text/html": [
       "<pre style=\"white-space:pre;overflow-x:auto;line-height:normal;font-family:Menlo,'DejaVu Sans Mono',consolas,'Courier New',monospace\"><span style=\"font-weight: bold\">Model: \"functional_1\"</span>\n",
       "</pre>\n"
      ],
      "text/plain": [
       "\u001b[1mModel: \"functional_1\"\u001b[0m\n"
      ]
     },
     "metadata": {},
     "output_type": "display_data"
    },
    {
     "data": {
      "text/html": [
       "<pre style=\"white-space:pre;overflow-x:auto;line-height:normal;font-family:Menlo,'DejaVu Sans Mono',consolas,'Courier New',monospace\">┏━━━━━━━━━━━━━━━━━━━━━┳━━━━━━━━━━━━━━━━━━━┳━━━━━━━━━━━━┳━━━━━━━━━━━━━━━━━━━┓\n",
       "┃<span style=\"font-weight: bold\"> Layer (type)        </span>┃<span style=\"font-weight: bold\"> Output Shape      </span>┃<span style=\"font-weight: bold\">    Param # </span>┃<span style=\"font-weight: bold\"> Connected to      </span>┃\n",
       "┡━━━━━━━━━━━━━━━━━━━━━╇━━━━━━━━━━━━━━━━━━━╇━━━━━━━━━━━━╇━━━━━━━━━━━━━━━━━━━┩\n",
       "│ input_layer         │ (<span style=\"color: #00d7ff; text-decoration-color: #00d7ff\">None</span>, <span style=\"color: #00af00; text-decoration-color: #00af00\">128</span>)       │          <span style=\"color: #00af00; text-decoration-color: #00af00\">0</span> │ -                 │\n",
       "│ (<span style=\"color: #0087ff; text-decoration-color: #0087ff\">InputLayer</span>)        │                   │            │                   │\n",
       "├─────────────────────┼───────────────────┼────────────┼───────────────────┤\n",
       "│ embedding           │ (<span style=\"color: #00d7ff; text-decoration-color: #00d7ff\">None</span>, <span style=\"color: #00af00; text-decoration-color: #00af00\">128</span>, <span style=\"color: #00af00; text-decoration-color: #00af00\">224</span>)  │  <span style=\"color: #00af00; text-decoration-color: #00af00\">1,568,000</span> │ input_layer[<span style=\"color: #00af00; text-decoration-color: #00af00\">0</span>][<span style=\"color: #00af00; text-decoration-color: #00af00\">0</span>] │\n",
       "│ (<span style=\"color: #0087ff; text-decoration-color: #0087ff\">Embedding</span>)         │                   │            │                   │\n",
       "├─────────────────────┼───────────────────┼────────────┼───────────────────┤\n",
       "│ bidirectional       │ (<span style=\"color: #00d7ff; text-decoration-color: #00d7ff\">None</span>, <span style=\"color: #00af00; text-decoration-color: #00af00\">128</span>, <span style=\"color: #00af00; text-decoration-color: #00af00\">512</span>)  │    <span style=\"color: #00af00; text-decoration-color: #00af00\">985,088</span> │ embedding[<span style=\"color: #00af00; text-decoration-color: #00af00\">0</span>][<span style=\"color: #00af00; text-decoration-color: #00af00\">0</span>]   │\n",
       "│ (<span style=\"color: #0087ff; text-decoration-color: #0087ff\">Bidirectional</span>)     │                   │            │                   │\n",
       "├─────────────────────┼───────────────────┼────────────┼───────────────────┤\n",
       "│ dropout (<span style=\"color: #0087ff; text-decoration-color: #0087ff\">Dropout</span>)   │ (<span style=\"color: #00d7ff; text-decoration-color: #00d7ff\">None</span>, <span style=\"color: #00af00; text-decoration-color: #00af00\">128</span>, <span style=\"color: #00af00; text-decoration-color: #00af00\">512</span>)  │          <span style=\"color: #00af00; text-decoration-color: #00af00\">0</span> │ bidirectional[<span style=\"color: #00af00; text-decoration-color: #00af00\">0</span>]… │\n",
       "├─────────────────────┼───────────────────┼────────────┼───────────────────┤\n",
       "│ bidirectional_1     │ (<span style=\"color: #00d7ff; text-decoration-color: #00d7ff\">None</span>, <span style=\"color: #00af00; text-decoration-color: #00af00\">128</span>, <span style=\"color: #00af00; text-decoration-color: #00af00\">512</span>)  │  <span style=\"color: #00af00; text-decoration-color: #00af00\">1,574,912</span> │ dropout[<span style=\"color: #00af00; text-decoration-color: #00af00\">0</span>][<span style=\"color: #00af00; text-decoration-color: #00af00\">0</span>]     │\n",
       "│ (<span style=\"color: #0087ff; text-decoration-color: #0087ff\">Bidirectional</span>)     │                   │            │                   │\n",
       "├─────────────────────┼───────────────────┼────────────┼───────────────────┤\n",
       "│ dropout_1 (<span style=\"color: #0087ff; text-decoration-color: #0087ff\">Dropout</span>) │ (<span style=\"color: #00d7ff; text-decoration-color: #00d7ff\">None</span>, <span style=\"color: #00af00; text-decoration-color: #00af00\">128</span>, <span style=\"color: #00af00; text-decoration-color: #00af00\">512</span>)  │          <span style=\"color: #00af00; text-decoration-color: #00af00\">0</span> │ bidirectional_1[<span style=\"color: #00af00; text-decoration-color: #00af00\">…</span> │\n",
       "├─────────────────────┼───────────────────┼────────────┼───────────────────┤\n",
       "│ bidirectional_2     │ (<span style=\"color: #00d7ff; text-decoration-color: #00d7ff\">None</span>, <span style=\"color: #00af00; text-decoration-color: #00af00\">512</span>)       │  <span style=\"color: #00af00; text-decoration-color: #00af00\">1,574,912</span> │ dropout_1[<span style=\"color: #00af00; text-decoration-color: #00af00\">0</span>][<span style=\"color: #00af00; text-decoration-color: #00af00\">0</span>]   │\n",
       "│ (<span style=\"color: #0087ff; text-decoration-color: #0087ff\">Bidirectional</span>)     │                   │            │                   │\n",
       "├─────────────────────┼───────────────────┼────────────┼───────────────────┤\n",
       "│ dropout_2 (<span style=\"color: #0087ff; text-decoration-color: #0087ff\">Dropout</span>) │ (<span style=\"color: #00d7ff; text-decoration-color: #00d7ff\">None</span>, <span style=\"color: #00af00; text-decoration-color: #00af00\">512</span>)       │          <span style=\"color: #00af00; text-decoration-color: #00af00\">0</span> │ bidirectional_2[<span style=\"color: #00af00; text-decoration-color: #00af00\">…</span> │\n",
       "├─────────────────────┼───────────────────┼────────────┼───────────────────┤\n",
       "│ dense (<span style=\"color: #0087ff; text-decoration-color: #0087ff\">Dense</span>)       │ (<span style=\"color: #00d7ff; text-decoration-color: #00d7ff\">None</span>, <span style=\"color: #00af00; text-decoration-color: #00af00\">224</span>)       │    <span style=\"color: #00af00; text-decoration-color: #00af00\">114,912</span> │ dropout_2[<span style=\"color: #00af00; text-decoration-color: #00af00\">0</span>][<span style=\"color: #00af00; text-decoration-color: #00af00\">0</span>]   │\n",
       "├─────────────────────┼───────────────────┼────────────┼───────────────────┤\n",
       "│ dropout_3 (<span style=\"color: #0087ff; text-decoration-color: #0087ff\">Dropout</span>) │ (<span style=\"color: #00d7ff; text-decoration-color: #00d7ff\">None</span>, <span style=\"color: #00af00; text-decoration-color: #00af00\">224</span>)       │          <span style=\"color: #00af00; text-decoration-color: #00af00\">0</span> │ dense[<span style=\"color: #00af00; text-decoration-color: #00af00\">0</span>][<span style=\"color: #00af00; text-decoration-color: #00af00\">0</span>]       │\n",
       "├─────────────────────┼───────────────────┼────────────┼───────────────────┤\n",
       "│ valence_output      │ (<span style=\"color: #00d7ff; text-decoration-color: #00d7ff\">None</span>, <span style=\"color: #00af00; text-decoration-color: #00af00\">3</span>)         │        <span style=\"color: #00af00; text-decoration-color: #00af00\">675</span> │ dropout_3[<span style=\"color: #00af00; text-decoration-color: #00af00\">0</span>][<span style=\"color: #00af00; text-decoration-color: #00af00\">0</span>]   │\n",
       "│ (<span style=\"color: #0087ff; text-decoration-color: #0087ff\">Dense</span>)             │                   │            │                   │\n",
       "├─────────────────────┼───────────────────┼────────────┼───────────────────┤\n",
       "│ energy_output       │ (<span style=\"color: #00d7ff; text-decoration-color: #00d7ff\">None</span>, <span style=\"color: #00af00; text-decoration-color: #00af00\">3</span>)         │        <span style=\"color: #00af00; text-decoration-color: #00af00\">675</span> │ dropout_3[<span style=\"color: #00af00; text-decoration-color: #00af00\">0</span>][<span style=\"color: #00af00; text-decoration-color: #00af00\">0</span>]   │\n",
       "│ (<span style=\"color: #0087ff; text-decoration-color: #0087ff\">Dense</span>)             │                   │            │                   │\n",
       "├─────────────────────┼───────────────────┼────────────┼───────────────────┤\n",
       "│ danceability_output │ (<span style=\"color: #00d7ff; text-decoration-color: #00d7ff\">None</span>, <span style=\"color: #00af00; text-decoration-color: #00af00\">3</span>)         │        <span style=\"color: #00af00; text-decoration-color: #00af00\">675</span> │ dropout_3[<span style=\"color: #00af00; text-decoration-color: #00af00\">0</span>][<span style=\"color: #00af00; text-decoration-color: #00af00\">0</span>]   │\n",
       "│ (<span style=\"color: #0087ff; text-decoration-color: #0087ff\">Dense</span>)             │                   │            │                   │\n",
       "└─────────────────────┴───────────────────┴────────────┴───────────────────┘\n",
       "</pre>\n"
      ],
      "text/plain": [
       "┏━━━━━━━━━━━━━━━━━━━━━┳━━━━━━━━━━━━━━━━━━━┳━━━━━━━━━━━━┳━━━━━━━━━━━━━━━━━━━┓\n",
       "┃\u001b[1m \u001b[0m\u001b[1mLayer (type)       \u001b[0m\u001b[1m \u001b[0m┃\u001b[1m \u001b[0m\u001b[1mOutput Shape     \u001b[0m\u001b[1m \u001b[0m┃\u001b[1m \u001b[0m\u001b[1m   Param #\u001b[0m\u001b[1m \u001b[0m┃\u001b[1m \u001b[0m\u001b[1mConnected to     \u001b[0m\u001b[1m \u001b[0m┃\n",
       "┡━━━━━━━━━━━━━━━━━━━━━╇━━━━━━━━━━━━━━━━━━━╇━━━━━━━━━━━━╇━━━━━━━━━━━━━━━━━━━┩\n",
       "│ input_layer         │ (\u001b[38;5;45mNone\u001b[0m, \u001b[38;5;34m128\u001b[0m)       │          \u001b[38;5;34m0\u001b[0m │ -                 │\n",
       "│ (\u001b[38;5;33mInputLayer\u001b[0m)        │                   │            │                   │\n",
       "├─────────────────────┼───────────────────┼────────────┼───────────────────┤\n",
       "│ embedding           │ (\u001b[38;5;45mNone\u001b[0m, \u001b[38;5;34m128\u001b[0m, \u001b[38;5;34m224\u001b[0m)  │  \u001b[38;5;34m1,568,000\u001b[0m │ input_layer[\u001b[38;5;34m0\u001b[0m][\u001b[38;5;34m0\u001b[0m] │\n",
       "│ (\u001b[38;5;33mEmbedding\u001b[0m)         │                   │            │                   │\n",
       "├─────────────────────┼───────────────────┼────────────┼───────────────────┤\n",
       "│ bidirectional       │ (\u001b[38;5;45mNone\u001b[0m, \u001b[38;5;34m128\u001b[0m, \u001b[38;5;34m512\u001b[0m)  │    \u001b[38;5;34m985,088\u001b[0m │ embedding[\u001b[38;5;34m0\u001b[0m][\u001b[38;5;34m0\u001b[0m]   │\n",
       "│ (\u001b[38;5;33mBidirectional\u001b[0m)     │                   │            │                   │\n",
       "├─────────────────────┼───────────────────┼────────────┼───────────────────┤\n",
       "│ dropout (\u001b[38;5;33mDropout\u001b[0m)   │ (\u001b[38;5;45mNone\u001b[0m, \u001b[38;5;34m128\u001b[0m, \u001b[38;5;34m512\u001b[0m)  │          \u001b[38;5;34m0\u001b[0m │ bidirectional[\u001b[38;5;34m0\u001b[0m]… │\n",
       "├─────────────────────┼───────────────────┼────────────┼───────────────────┤\n",
       "│ bidirectional_1     │ (\u001b[38;5;45mNone\u001b[0m, \u001b[38;5;34m128\u001b[0m, \u001b[38;5;34m512\u001b[0m)  │  \u001b[38;5;34m1,574,912\u001b[0m │ dropout[\u001b[38;5;34m0\u001b[0m][\u001b[38;5;34m0\u001b[0m]     │\n",
       "│ (\u001b[38;5;33mBidirectional\u001b[0m)     │                   │            │                   │\n",
       "├─────────────────────┼───────────────────┼────────────┼───────────────────┤\n",
       "│ dropout_1 (\u001b[38;5;33mDropout\u001b[0m) │ (\u001b[38;5;45mNone\u001b[0m, \u001b[38;5;34m128\u001b[0m, \u001b[38;5;34m512\u001b[0m)  │          \u001b[38;5;34m0\u001b[0m │ bidirectional_1[\u001b[38;5;34m…\u001b[0m │\n",
       "├─────────────────────┼───────────────────┼────────────┼───────────────────┤\n",
       "│ bidirectional_2     │ (\u001b[38;5;45mNone\u001b[0m, \u001b[38;5;34m512\u001b[0m)       │  \u001b[38;5;34m1,574,912\u001b[0m │ dropout_1[\u001b[38;5;34m0\u001b[0m][\u001b[38;5;34m0\u001b[0m]   │\n",
       "│ (\u001b[38;5;33mBidirectional\u001b[0m)     │                   │            │                   │\n",
       "├─────────────────────┼───────────────────┼────────────┼───────────────────┤\n",
       "│ dropout_2 (\u001b[38;5;33mDropout\u001b[0m) │ (\u001b[38;5;45mNone\u001b[0m, \u001b[38;5;34m512\u001b[0m)       │          \u001b[38;5;34m0\u001b[0m │ bidirectional_2[\u001b[38;5;34m…\u001b[0m │\n",
       "├─────────────────────┼───────────────────┼────────────┼───────────────────┤\n",
       "│ dense (\u001b[38;5;33mDense\u001b[0m)       │ (\u001b[38;5;45mNone\u001b[0m, \u001b[38;5;34m224\u001b[0m)       │    \u001b[38;5;34m114,912\u001b[0m │ dropout_2[\u001b[38;5;34m0\u001b[0m][\u001b[38;5;34m0\u001b[0m]   │\n",
       "├─────────────────────┼───────────────────┼────────────┼───────────────────┤\n",
       "│ dropout_3 (\u001b[38;5;33mDropout\u001b[0m) │ (\u001b[38;5;45mNone\u001b[0m, \u001b[38;5;34m224\u001b[0m)       │          \u001b[38;5;34m0\u001b[0m │ dense[\u001b[38;5;34m0\u001b[0m][\u001b[38;5;34m0\u001b[0m]       │\n",
       "├─────────────────────┼───────────────────┼────────────┼───────────────────┤\n",
       "│ valence_output      │ (\u001b[38;5;45mNone\u001b[0m, \u001b[38;5;34m3\u001b[0m)         │        \u001b[38;5;34m675\u001b[0m │ dropout_3[\u001b[38;5;34m0\u001b[0m][\u001b[38;5;34m0\u001b[0m]   │\n",
       "│ (\u001b[38;5;33mDense\u001b[0m)             │                   │            │                   │\n",
       "├─────────────────────┼───────────────────┼────────────┼───────────────────┤\n",
       "│ energy_output       │ (\u001b[38;5;45mNone\u001b[0m, \u001b[38;5;34m3\u001b[0m)         │        \u001b[38;5;34m675\u001b[0m │ dropout_3[\u001b[38;5;34m0\u001b[0m][\u001b[38;5;34m0\u001b[0m]   │\n",
       "│ (\u001b[38;5;33mDense\u001b[0m)             │                   │            │                   │\n",
       "├─────────────────────┼───────────────────┼────────────┼───────────────────┤\n",
       "│ danceability_output │ (\u001b[38;5;45mNone\u001b[0m, \u001b[38;5;34m3\u001b[0m)         │        \u001b[38;5;34m675\u001b[0m │ dropout_3[\u001b[38;5;34m0\u001b[0m][\u001b[38;5;34m0\u001b[0m]   │\n",
       "│ (\u001b[38;5;33mDense\u001b[0m)             │                   │            │                   │\n",
       "└─────────────────────┴───────────────────┴────────────┴───────────────────┘\n"
      ]
     },
     "metadata": {},
     "output_type": "display_data"
    },
    {
     "data": {
      "text/html": [
       "<pre style=\"white-space:pre;overflow-x:auto;line-height:normal;font-family:Menlo,'DejaVu Sans Mono',consolas,'Courier New',monospace\"><span style=\"font-weight: bold\"> Total params: </span><span style=\"color: #00af00; text-decoration-color: #00af00\">5,819,849</span> (22.20 MB)\n",
       "</pre>\n"
      ],
      "text/plain": [
       "\u001b[1m Total params: \u001b[0m\u001b[38;5;34m5,819,849\u001b[0m (22.20 MB)\n"
      ]
     },
     "metadata": {},
     "output_type": "display_data"
    },
    {
     "data": {
      "text/html": [
       "<pre style=\"white-space:pre;overflow-x:auto;line-height:normal;font-family:Menlo,'DejaVu Sans Mono',consolas,'Courier New',monospace\"><span style=\"font-weight: bold\"> Trainable params: </span><span style=\"color: #00af00; text-decoration-color: #00af00\">5,819,849</span> (22.20 MB)\n",
       "</pre>\n"
      ],
      "text/plain": [
       "\u001b[1m Trainable params: \u001b[0m\u001b[38;5;34m5,819,849\u001b[0m (22.20 MB)\n"
      ]
     },
     "metadata": {},
     "output_type": "display_data"
    },
    {
     "data": {
      "text/html": [
       "<pre style=\"white-space:pre;overflow-x:auto;line-height:normal;font-family:Menlo,'DejaVu Sans Mono',consolas,'Courier New',monospace\"><span style=\"font-weight: bold\"> Non-trainable params: </span><span style=\"color: #00af00; text-decoration-color: #00af00\">0</span> (0.00 B)\n",
       "</pre>\n"
      ],
      "text/plain": [
       "\u001b[1m Non-trainable params: \u001b[0m\u001b[38;5;34m0\u001b[0m (0.00 B)\n"
      ]
     },
     "metadata": {},
     "output_type": "display_data"
    },
    {
     "name": "stdout",
     "output_type": "stream",
     "text": [
      "\u001b[1m3/3\u001b[0m \u001b[32m━━━━━━━━━━━━━━━━━━━━\u001b[0m\u001b[37m\u001b[0m \u001b[1m2s\u001b[0m 300ms/step - danceability_output_accuracy: 0.4388 - energy_output_accuracy: 0.2552 - loss: 3.3616 - valence_output_accuracy: 0.4609\n",
      "Validation Loss and Accuracy: [3.2785587310791016, 0.4479166567325592, 0.2916666567325592, 0.5]\n"
     ]
    }
   ],
   "source": [
    "best_model_LSTM = tuner_LSTM.get_best_models(num_models=1)[0]\n",
    "best_model_LSTM.summary()\n",
    "\n",
    "# Evaluate the best model\n",
    "results = best_model_LSTM.evaluate(X_val, [y_val_valence, y_val_energy, y_val_danceability])\n",
    "print(\"Validation Loss and Accuracy:\", results)"
   ]
  },
  {
   "cell_type": "markdown",
   "metadata": {},
   "source": [
    "# CNN"
   ]
  },
  {
   "cell_type": "code",
   "execution_count": 13,
   "metadata": {},
   "outputs": [
    {
     "name": "stdout",
     "output_type": "stream",
     "text": [
      "Trial 10 Complete [00h 00m 02s]\n",
      "val_valence_output_accuracy: 0.3645833432674408\n",
      "\n",
      "Best val_valence_output_accuracy So Far: 0.5625\n",
      "Total elapsed time: 00h 00m 28s\n",
      "{'embedding_output_dim': 96, 'filters': 96, 'kernel_size': 7, 'pool_size': 5, 'num_layers': 3, 'dense_units_1': 288, 'dropout_1': 0.0, 'optimizer': 'rmsprop', 'learning_rate': 0.001, 'dense_units_2': 224, 'dropout_2': 0.30000000000000004, 'dense_units_3': 32, 'dropout_3': 0.0}\n"
     ]
    },
    {
     "name": "stderr",
     "output_type": "stream",
     "text": [
      "c:\\Users\\Alex\\anaconda3\\envs\\pt\\Lib\\site-packages\\keras\\src\\saving\\saving_lib.py:415: UserWarning: Skipping variable loading for optimizer 'rmsprop', because it has 2 variables whereas the saved optimizer has 17 variables. \n",
      "  saveable.load_own_variables(weights_store.get(inner_path))\n"
     ]
    }
   ],
   "source": [
    "# 构建 CNN 模型函数\n",
    "def build_cnn_model(hp):\n",
    "    inputs = Input(shape=(max_len,))\n",
    "    x = Embedding(input_dim=max_words, output_dim=hp.Int('embedding_output_dim', min_value=32, max_value=128, step=32), input_length=max_len)(inputs)\n",
    "    x = tf.keras.layers.Conv1D(filters=hp.Int('filters', min_value=32, max_value=128, step=32), kernel_size=hp.Int('kernel_size', min_value=3, max_value=7, step=2), activation='relu')(x)\n",
    "    x = tf.keras.layers.AveragePooling1D(pool_size=hp.Int('pool_size', min_value=2, max_value=5, step=1))(x)\n",
    "    x = Flatten()(x)\n",
    "    \n",
    "    num_layers = hp.Int('num_layers', min_value=1, max_value=3, step=1)\n",
    "    for i in range(num_layers):\n",
    "        x = Dense(units=hp.Int(f'dense_units_{i+1}', min_value=32, max_value=512, step=32), activation='relu')(x)\n",
    "        x = Dropout(rate=hp.Float(f'dropout_{i+1}', min_value=0.0, max_value=0.5, step=0.1))(x)\n",
    "    \n",
    "    output_valence = Dense(y_valence.shape[1], activation='softmax', name='valence_output')(x)\n",
    "    output_energy = Dense(y_energy.shape[1], activation='softmax', name='energy_output')(x)\n",
    "    output_danceability = Dense(y_danceability.shape[1], activation='softmax', name='danceability_output')(x)\n",
    "    \n",
    "    model = Model(inputs=inputs, outputs=[output_valence, output_energy, output_danceability])\n",
    "\n",
    "    optimizer_choice = hp.Choice('optimizer', values=['adam', 'rmsprop', 'sgd'])\n",
    "    learning_rate = hp.Choice('learning_rate', values=[1e-3, 1e-4, 1e-5])\n",
    "\n",
    "    if optimizer_choice == 'adam':\n",
    "        optimizer = Adam(learning_rate=learning_rate)\n",
    "    elif optimizer_choice == 'rmsprop':\n",
    "        optimizer = RMSprop(learning_rate=learning_rate)\n",
    "    else:\n",
    "        optimizer = SGD(learning_rate=learning_rate)\n",
    "\n",
    "    model.compile(optimizer=optimizer,\n",
    "                  loss={'valence_output': 'categorical_crossentropy', \n",
    "                        'energy_output': 'categorical_crossentropy', \n",
    "                        'danceability_output': 'categorical_crossentropy'},\n",
    "                  metrics={'valence_output': 'accuracy', \n",
    "                           'energy_output': 'accuracy', \n",
    "                           'danceability_output': 'accuracy'})\n",
    "    return model\n",
    "\n",
    "# 超参数调优\n",
    "tuner_CNN = RandomSearch(\n",
    "    build_cnn_model,\n",
    "    objective=Objective('val_valence_output_accuracy', direction='max'),\n",
    "    max_trials=10,\n",
    "    executions_per_trial=1,\n",
    "    directory='tuner_dir',\n",
    "    project_name='cnn_mood_detection_600'\n",
    ")\n",
    "\n",
    "# 启动调优过程\n",
    "tuner_CNN.search(X_train, [y_train_valence, y_train_energy, y_train_danceability], \n",
    "             epochs=20, \n",
    "             validation_data=(X_val, [y_val_valence, y_val_energy, y_val_danceability]), \n",
    "             callbacks=[EarlyStopping(patience=3)])\n",
    "\n",
    "# 获取最佳模型\n",
    "best_model_CNN = tuner_CNN.get_best_models(num_models=1)[0]\n",
    "best_hyperparameters_CNN = tuner_CNN.get_best_hyperparameters(num_trials=1)[0]\n",
    "print(best_hyperparameters_CNN.values)"
   ]
  },
  {
   "cell_type": "code",
   "execution_count": 14,
   "metadata": {},
   "outputs": [
    {
     "name": "stdout",
     "output_type": "stream",
     "text": [
      "\u001b[1m4/4\u001b[0m \u001b[32m━━━━━━━━━━━━━━━━━━━━\u001b[0m\u001b[37m\u001b[0m \u001b[1m0s\u001b[0m 3ms/step - danceability_output_accuracy: 0.4052 - energy_output_accuracy: 0.4340 - loss: 3.6213 - valence_output_accuracy: 0.5440  \n",
      "<module 'sklearn.metrics' from 'c:\\\\Users\\\\Alex\\\\anaconda3\\\\envs\\\\pt\\\\Lib\\\\site-packages\\\\sklearn\\\\metrics\\\\__init__.py'>\n"
     ]
    }
   ],
   "source": [
    "metrics_CNN = best_model_CNN.evaluate(X_test, [y_test_valence, y_test_energy, y_test_danceability])\n",
    "#print(f'Test Loss: {loss}, Test Accuracy Valence: {accuracy_valence}, Test Accuracy Energy: {accuracy_energy}, Test Accuracy Danceability: {accuracy_danceability}')\n",
    "print(metrics)"
   ]
  },
  {
   "cell_type": "code",
   "execution_count": null,
   "metadata": {},
   "outputs": [],
   "source": [
    "# # 评估模型\n",
    "# loss, valence_output_loss, energy_output_loss, danceability_output_loss, accuracy_valence, accuracy_energy, accuracy_danceability = best_model.evaluate(X_test, [y_test_valence, y_test_energy, y_test_danceability])\n",
    "# print(f'Test Loss: {loss}, valence_output_loss: {valence_output_loss}, energy_output_loss: {energy_output_loss}, danceability_output_loss: {danceability_output_loss}, Test Accuracy Valence: {accuracy_valence}, Test Accuracy Energy: {accuracy_energy}, Test Accuracy Danceability: {accuracy_danceability}')"
   ]
  },
  {
   "cell_type": "markdown",
   "metadata": {},
   "source": [
    "# Transformer"
   ]
  },
  {
   "cell_type": "code",
   "execution_count": 15,
   "metadata": {},
   "outputs": [],
   "source": [
    "num_labels = 3\n",
    "\n",
    "class MultiLabelBERT(nn.Module):\n",
    "    def __init__(self, model_name, num_labels_valence, num_labels_energy, num_labels_danceability, dropout_rate):\n",
    "        super(MultiLabelBERT, self).__init__()\n",
    "        self.bert = BertModel.from_pretrained(model_name)\n",
    "        self.dropout = nn.Dropout(dropout_rate)\n",
    "        self.classifier_valence = nn.Linear(self.bert.config.hidden_size, num_labels_valence)\n",
    "        self.classifier_energy = nn.Linear(self.bert.config.hidden_size, num_labels_energy)\n",
    "        self.classifier_danceability = nn.Linear(self.bert.config.hidden_size, num_labels_danceability)\n",
    "    \n",
    "    def forward(self, input_ids, attention_mask, labels_valence=None, labels_energy=None, labels_danceability=None):\n",
    "        outputs = self.bert(input_ids=input_ids, attention_mask=attention_mask, return_dict=True)\n",
    "        pooled_output = self.dropout(outputs.pooler_output)\n",
    "        \n",
    "        logits_valence = self.classifier_valence(pooled_output)\n",
    "        logits_energy = self.classifier_energy(pooled_output)\n",
    "        logits_danceability = self.classifier_danceability(pooled_output)\n",
    "        \n",
    "        loss = None\n",
    "        if labels_valence is not None and labels_energy is not None and labels_danceability is not None:\n",
    "            loss_fct = nn.CrossEntropyLoss()\n",
    "            loss_valence = loss_fct(logits_valence, labels_valence)\n",
    "            loss_energy = loss_fct(logits_energy, labels_energy)\n",
    "            loss_danceability = loss_fct(logits_danceability, labels_danceability)\n",
    "            loss = loss_valence + loss_energy + loss_danceability\n",
    "        \n",
    "        return (loss, logits_valence, logits_energy, logits_danceability)"
   ]
  },
  {
   "cell_type": "code",
   "execution_count": 16,
   "metadata": {},
   "outputs": [],
   "source": [
    "class MultiLabelRoBERTa(torch.nn.Module):\n",
    "    def __init__(self, model_name, num_labels_valence, num_labels_energy, num_labels_danceability, dropout_rate):\n",
    "        super(MultiLabelRoBERTa, self).__init__()\n",
    "        self.roberta = RobertaModel.from_pretrained(model_name)\n",
    "        self.dropout = torch.nn.Dropout(dropout_rate)\n",
    "        self.classifier_valence = torch.nn.Linear(self.roberta.config.hidden_size, num_labels_valence)\n",
    "        self.classifier_energy = torch.nn.Linear(self.roberta.config.hidden_size, num_labels_energy)\n",
    "        self.classifier_danceability = torch.nn.Linear(self.roberta.config.hidden_size, num_labels_danceability)\n",
    "    \n",
    "    def forward(self, input_ids, attention_mask, labels_valence=None, labels_energy=None, labels_danceability=None):\n",
    "        outputs = self.roberta(input_ids=input_ids, attention_mask=attention_mask)\n",
    "        cls_token = outputs[0][:, 0, :]\n",
    "        cls_token = self.dropout(cls_token)\n",
    "        \n",
    "        logits_valence = self.classifier_valence(cls_token)\n",
    "        logits_energy = self.classifier_energy(cls_token)\n",
    "        logits_danceability = self.classifier_danceability(cls_token)\n",
    "        \n",
    "        loss = 0\n",
    "        if labels_valence is not None and labels_energy is not None and labels_danceability is not None:\n",
    "            loss_fct = torch.nn.CrossEntropyLoss()\n",
    "            loss_valence = loss_fct(logits_valence, labels_valence)\n",
    "            loss_energy = loss_fct(logits_energy, labels_energy)\n",
    "            loss_danceability = loss_fct(logits_danceability, labels_danceability)\n",
    "            loss = (loss_valence + loss_energy + loss_danceability) / 3\n",
    "        \n",
    "        return loss, logits_valence, logits_energy, logits_danceability"
   ]
  },
  {
   "cell_type": "code",
   "execution_count": 18,
   "metadata": {},
   "outputs": [],
   "source": [
    "class XLMRoberta(torch.nn.Module):\n",
    "    def __init__(self, model_name, num_labels_valence, num_labels_energy, num_labels_danceability, dropout_rate):\n",
    "        super(XLMRoberta, self).__init__()\n",
    "        self.xlm_roberta = XLMRobertaModel.from_pretrained(model_name)\n",
    "        self.dropout = torch.nn.Dropout(dropout_rate)\n",
    "        self.classifier_valence = torch.nn.Linear(self.xlm_roberta.config.hidden_size, num_labels_valence)\n",
    "        self.classifier_energy = torch.nn.Linear(self.xlm_roberta.config.hidden_size, num_labels_energy)\n",
    "        self.classifier_danceability = torch.nn.Linear(self.xlm_roberta.config.hidden_size, num_labels_danceability)\n",
    "    \n",
    "    def forward(self, input_ids, attention_mask, labels_valence=None, labels_energy=None, labels_danceability=None):\n",
    "        outputs = self.xlm_roberta(input_ids=input_ids, attention_mask=attention_mask)\n",
    "        cls_token = outputs[0][:, 0, :]\n",
    "        cls_token = self.dropout(cls_token)\n",
    "        \n",
    "        logits_valence = self.classifier_valence(cls_token)\n",
    "        logits_energy = self.classifier_energy(cls_token)\n",
    "        logits_danceability = self.classifier_danceability(cls_token)\n",
    "        \n",
    "        loss = 0\n",
    "        if labels_valence is not None and labels_energy is not None and labels_danceability is not None:\n",
    "            loss_fct = torch.nn.CrossEntropyLoss()\n",
    "            loss_valence = loss_fct(logits_valence, labels_valence)\n",
    "            loss_energy = loss_fct(logits_energy, labels_energy)\n",
    "            loss_danceability = loss_fct(logits_danceability, labels_danceability)\n",
    "            loss = (loss_valence + loss_energy + loss_danceability) / 3\n",
    "        \n",
    "        return loss, logits_valence, logits_energy, logits_danceability"
   ]
  },
  {
   "cell_type": "code",
   "execution_count": 19,
   "metadata": {},
   "outputs": [],
   "source": [
    "def model_class(model_name, num_labels_valence, num_labels_energy, num_labels_danceability, dropout_rate):\n",
    "    model = None\n",
    "    if model_name == 'roberta-base':\n",
    "        model = MultiLabelRoBERTa(model_name, num_labels_valence, num_labels_energy, num_labels_danceability, dropout_rate)\n",
    "    elif model_name == 'bert-base-uncased':\n",
    "        model = MultiLabelBERT(model_name, num_labels_valence, num_labels_energy, num_labels_danceability, dropout_rate)\n",
    "    elif model_name == 'xlm-roberta-base':\n",
    "        model = XLMRoberta(model_name, num_labels_valence, num_labels_energy, num_labels_danceability, dropout_rate)\n",
    "    return model"
   ]
  },
  {
   "cell_type": "code",
   "execution_count": 20,
   "metadata": {},
   "outputs": [],
   "source": [
    "class MultiLabelDataset(Dataset):\n",
    "    def __init__(self, input_ids, attention_masks, labels_valence, labels_energy, labels_danceability):\n",
    "        self.input_ids = input_ids\n",
    "        self.attention_masks = attention_masks\n",
    "        self.labels_valence = np.argmax(labels_valence, axis=1)\n",
    "        self.labels_energy = np.argmax(labels_energy, axis=1)\n",
    "        self.labels_danceability = np.argmax(labels_danceability, axis=1)\n",
    "\n",
    "    def __len__(self):\n",
    "        return len(self.input_ids)\n",
    "\n",
    "    def __getitem__(self, idx):\n",
    "        item = {\n",
    "            'input_ids': torch.tensor(self.input_ids[idx], dtype=torch.long),\n",
    "            'attention_mask': torch.tensor(self.attention_masks[idx], dtype=torch.long),\n",
    "            'labels_valence': torch.tensor(self.labels_valence[idx], dtype=torch.long),\n",
    "            'labels_energy': torch.tensor(self.labels_energy[idx], dtype=torch.long),\n",
    "            'labels_danceability': torch.tensor(self.labels_danceability[idx], dtype=torch.long)\n",
    "        }\n",
    "        return item"
   ]
  },
  {
   "cell_type": "code",
   "execution_count": 21,
   "metadata": {},
   "outputs": [],
   "source": [
    "# 拆分数据集\n",
    "max_len = 128\n",
    "X_train_val, X_test, y_train_val_valence, y_test_valence, y_train_val_energy, y_test_energy, y_train_val_danceability, y_test_danceability = train_test_split(\n",
    "    data['lyrics'], y_valence, y_energy, y_danceability, test_size=0.2, random_state=42)\n",
    "\n",
    "X_train, X_val, y_train_valence, y_val_valence, y_train_energy, y_val_energy, y_train_danceability, y_val_danceability = train_test_split(\n",
    "    X_train_val, y_train_val_valence, y_train_val_energy, y_train_val_danceability, test_size=0.2, random_state=42)\n",
    "\n",
    "def tokenize(sentences, tokenizer, max_len=128):\n",
    "    input_ids, attention_masks = [], []\n",
    "    for sent in sentences:\n",
    "        encoded = tokenizer.encode_plus(\n",
    "            text=sent,\n",
    "            add_special_tokens=True,\n",
    "            max_length=max_len,\n",
    "            pad_to_max_length=True,\n",
    "            return_attention_mask=True,\n",
    "            return_token_type_ids=False,\n",
    "            truncation=True\n",
    "        )\n",
    "        input_ids.append(encoded['input_ids'])\n",
    "        attention_masks.append(encoded['attention_mask'])\n",
    "    return np.array(input_ids), np.array(attention_masks)"
   ]
  },
  {
   "cell_type": "code",
   "execution_count": 23,
   "metadata": {},
   "outputs": [],
   "source": [
    "def train_and_evaluate(params):\n",
    "    lr = params['lr']\n",
    "    num_epochs = int(params['num_epochs'])\n",
    "    batch_size = int(params['batch_size'])\n",
    "    weight_decay = params['weight_decay']\n",
    "    dropout_rate = params['dropout_rate']\n",
    "    model_name = params['model_name']\n",
    "    \n",
    "    torch.cuda.empty_cache()\n",
    "    \n",
    "    device = torch.device('cuda' if torch.cuda.is_available() else 'cpu')\n",
    "    model = model_class(model_name, num_labels_valence=3, num_labels_energy=3, num_labels_danceability=3, dropout_rate=dropout_rate).to(device)\n",
    "    \n",
    "    optimizer = torch.optim.Adam(model.parameters(), lr=lr)\n",
    "\n",
    "    train_dataset = MultiLabelDataset(X_train_input_ids, X_train_attention_masks, y_train_valence, y_train_energy, y_train_danceability)\n",
    "    val_dataset = MultiLabelDataset(X_val_input_ids, X_val_attention_masks, y_val_valence, y_val_energy, y_val_danceability)\n",
    "\n",
    "    train_dataloader = DataLoader(train_dataset, batch_size=batch_size, shuffle=True)\n",
    "    val_dataloader = DataLoader(val_dataset, batch_size=batch_size)\n",
    "    \n",
    "    num_training_steps = len(train_dataloader) * num_epochs\n",
    "    warmup_steps = int(0.1 * num_training_steps)\n",
    "    \n",
    "    scheduler = get_linear_schedule_with_warmup(\n",
    "        optimizer,\n",
    "        num_warmup_steps=warmup_steps,\n",
    "        num_training_steps=num_training_steps)\n",
    "\n",
    "    best_val_loss = float('inf')\n",
    "    best_val_accuracy = float(0)\n",
    "    for epoch in range(num_epochs):\n",
    "        model.train()\n",
    "        train_loss = 0.0\n",
    "        train_predictions_valence = []\n",
    "        train_predictions_energy = []\n",
    "        train_predictions_danceability = []\n",
    "        train_labels_valence = []\n",
    "        train_labels_energy = []\n",
    "        train_labels_danceability = []\n",
    "        progress_bar = tqdm(train_dataloader, desc='Training', leave=False)\n",
    "\n",
    "        for batch in progress_bar:\n",
    "            input_ids = batch['input_ids'].to(device)\n",
    "            attention_mask = batch['attention_mask'].to(device)\n",
    "            labels_valence = batch['labels_valence'].to(device)\n",
    "            labels_energy = batch['labels_energy'].to(device)\n",
    "            labels_danceability = batch['labels_danceability'].to(device)\n",
    "\n",
    "            optimizer.zero_grad()\n",
    "            outputs = model(input_ids, attention_mask=attention_mask, labels_valence=labels_valence, labels_energy=labels_energy, labels_danceability=labels_danceability)\n",
    "            loss, logits_valence, logits_energy, logits_danceability = outputs\n",
    "            loss.backward()\n",
    "            torch.nn.utils.clip_grad_norm_(model.parameters(), max_norm=1.0)\n",
    "            optimizer.step()\n",
    "            scheduler.step()\n",
    "\n",
    "            train_loss += loss.item()\n",
    "            train_predictions_valence.extend(logits_valence.argmax(dim=-1).cpu().numpy())\n",
    "            train_predictions_energy.extend(logits_energy.argmax(dim=-1).cpu().numpy())\n",
    "            train_predictions_danceability.extend(logits_danceability.argmax(dim=-1).cpu().numpy())\n",
    "            train_labels_valence.extend(labels_valence.cpu().numpy())\n",
    "            train_labels_energy.extend(labels_energy.cpu().numpy())\n",
    "            train_labels_danceability.extend(labels_danceability.cpu().numpy())\n",
    "            progress_bar.set_postfix({'loss': loss.item()})\n",
    "\n",
    "        train_accuracy_valence = metrics.accuracy_score(train_labels_valence, train_predictions_valence)\n",
    "        train_accuracy_energy = metrics.accuracy_score(train_labels_energy, train_predictions_energy)\n",
    "        train_accuracy_danceability = metrics.accuracy_score(train_labels_danceability, train_predictions_danceability)\n",
    "\n",
    "        model.eval()\n",
    "        val_loss = 0.0\n",
    "        val_predictions_valence = []\n",
    "        val_predictions_energy = []\n",
    "        val_predictions_danceability = []\n",
    "        val_labels_valence = []\n",
    "        val_labels_energy = []\n",
    "        val_labels_danceability = []\n",
    "        progress_bar = tqdm(val_dataloader, desc='Validation', leave=False)\n",
    "\n",
    "        for batch in progress_bar:\n",
    "            input_ids = batch['input_ids'].to(device)\n",
    "            attention_mask = batch['attention_mask'].to(device)\n",
    "            labels_valence = batch['labels_valence'].to(device)\n",
    "            labels_energy = batch['labels_energy'].to(device)\n",
    "            labels_danceability = batch['labels_danceability'].to(device)\n",
    "\n",
    "            with torch.no_grad():\n",
    "                outputs = model(input_ids, attention_mask=attention_mask, labels_valence=labels_valence, labels_energy=labels_energy, labels_danceability=labels_danceability)\n",
    "                loss, logits_valence, logits_energy, logits_danceability = outputs\n",
    "                val_loss += loss.item()\n",
    "                val_predictions_valence.extend(logits_valence.argmax(dim=-1).cpu().numpy())\n",
    "                val_predictions_energy.extend(logits_energy.argmax(dim=-1).cpu().numpy())\n",
    "                val_predictions_danceability.extend(logits_danceability.argmax(dim=-1).cpu().numpy())\n",
    "                val_labels_valence.extend(labels_valence.cpu().numpy())\n",
    "                val_labels_energy.extend(labels_energy.cpu().numpy())\n",
    "                val_labels_danceability.extend(labels_danceability.cpu().numpy())\n",
    "                progress_bar.set_postfix({'val_loss': loss.item()})\n",
    "\n",
    "        avg_val_loss = val_loss / len(val_dataloader)\n",
    "        val_accuracy_valence = metrics.accuracy_score(val_labels_valence, val_predictions_valence)\n",
    "        val_accuracy_energy = metrics.accuracy_score(val_labels_energy, val_predictions_energy)\n",
    "        val_accuracy_danceability = metrics.accuracy_score(val_labels_danceability, val_predictions_danceability)\n",
    "\n",
    "        val_accuracy = (val_accuracy_valence + val_accuracy_energy + val_accuracy_danceability) / 3\n",
    "\n",
    "        if val_accuracy > best_val_accuracy:\n",
    "            best_val_accuracy = val_accuracy\n",
    "            torch.save(model.state_dict(), f'best_model{model_name}.pt')\n",
    "            \n",
    "    model.load_state_dict(torch.load(f'best_model{model_name}.pt'))\n",
    "    print(f'No. of Epoch: {epoch}; Validation accuracy: {val_accuracy * 100:.2f}%; train accuracies: valence {train_accuracy_valence * 100:.2f}%, energy {train_accuracy_energy * 100:.2f}%, danceability {train_accuracy_danceability * 100:.2f}%')\n",
    "    return val_accuracy, avg_val_loss, train_accuracy_valence, train_accuracy_energy, train_accuracy_danceability, train_loss"
   ]
  },
  {
   "cell_type": "markdown",
   "metadata": {},
   "source": [
    "## BERT"
   ]
  },
  {
   "cell_type": "code",
   "execution_count": 24,
   "metadata": {},
   "outputs": [
    {
     "name": "stderr",
     "output_type": "stream",
     "text": [
      "c:\\Users\\Alex\\anaconda3\\envs\\pt\\Lib\\site-packages\\transformers\\tokenization_utils_base.py:2699: FutureWarning: The `pad_to_max_length` argument is deprecated and will be removed in a future version, use `padding=True` or `padding='longest'` to pad to the longest sequence in the batch, or use `padding='max_length'` to pad to a max length. In this case, you can give a specific length with `max_length` (e.g. `max_length=45`) or leave max_length to None to pad to the maximal input size of the model (e.g. 512 for Bert).\n",
      "  warnings.warn(\n"
     ]
    }
   ],
   "source": [
    "# 使用 BertTokenizer 和 TFBertModel\n",
    "tokenizer = BertTokenizer.from_pretrained('bert-base-uncased')\n",
    "\n",
    "X_train_input_ids, X_train_attention_masks = tokenize(X_train, tokenizer, max_len)\n",
    "X_val_input_ids, X_val_attention_masks = tokenize(X_val, tokenizer, max_len)\n",
    "X_test_input_ids, X_test_attention_masks = tokenize(X_test, tokenizer, max_len)"
   ]
  },
  {
   "cell_type": "code",
   "execution_count": 25,
   "metadata": {},
   "outputs": [],
   "source": [
    "def objective_bert(trial):\n",
    "    params = {\n",
    "        'lr': trial.suggest_float('lr', 2e-5, 5e-5, log=True),\n",
    "        'num_epochs': trial.suggest_int('num_epochs', 4, 10),\n",
    "        'batch_size': trial.suggest_categorical('batch_size', [16, 32, 64]),\n",
    "        'weight_decay': trial.suggest_float('weight_decay', 0.01, 0.3),\n",
    "        'dropout_rate': trial.suggest_float('dropout_rate', 0.05, 0.3),\n",
    "        'model_name': 'bert-base-uncased'\n",
    "    }\n",
    "    val_accuracy, avg_val_loss, train_accuracy_valence, train_accuracy_energy, train_accuracy_danceability, train_loss = train_and_evaluate(params)\n",
    "    trial.set_user_attr(\"val_accuracy\", val_accuracy)\n",
    "    trial.set_user_attr(\"avg_val_loss\", avg_val_loss)\n",
    "    trial.set_user_attr(\"train_accuracy_valence\", train_accuracy_valence)\n",
    "    trial.set_user_attr(\"train_accuracy_energy\", train_accuracy_energy)\n",
    "    trial.set_user_attr(\"train_accuracy_danceability\", train_accuracy_danceability)\n",
    "    trial.set_user_attr(\"train_loss\", train_loss)\n",
    "    return avg_val_loss"
   ]
  },
  {
   "cell_type": "code",
   "execution_count": 26,
   "metadata": {},
   "outputs": [
    {
     "name": "stderr",
     "output_type": "stream",
     "text": [
      "[I 2024-05-21 17:31:25,077] A new study created in memory with name: no-name-3959ab83-99a1-4555-86e7-d8b011e601aa\n",
      "Training:   0%|          | 0/6 [00:00<?, ?it/s]c:\\Users\\Alex\\anaconda3\\envs\\pt\\Lib\\site-packages\\transformers\\models\\bert\\modeling_bert.py:435: UserWarning: 1Torch was not compiled with flash attention. (Triggered internally at C:\\cb\\pytorch_1000000000000\\work\\aten\\src\\ATen\\native\\transformers\\cuda\\sdp_utils.cpp:455.)\n",
      "  attn_output = torch.nn.functional.scaled_dot_product_attention(\n",
      "[I 2024-05-21 17:32:06,253] Trial 0 finished with value: 3.2556811571121216 and parameters: {'lr': 3.881238115889723e-05, 'num_epochs': 8, 'batch_size': 64, 'weight_decay': 0.26322440438232725, 'dropout_rate': 0.2715328059343429}. Best is trial 0 with value: 3.2556811571121216.\n"
     ]
    },
    {
     "name": "stdout",
     "output_type": "stream",
     "text": [
      "No. of Epoch: 7; Validation accuracy: 41.32%; train accuracies: valence 46.88%, energy 46.09%, danceability 61.46%\n"
     ]
    },
    {
     "name": "stderr",
     "output_type": "stream",
     "text": [
      "[I 2024-05-21 17:33:06,725] Trial 1 finished with value: 3.0864136616388955 and parameters: {'lr': 2.4928069352434043e-05, 'num_epochs': 10, 'batch_size': 16, 'weight_decay': 0.08007780288730042, 'dropout_rate': 0.19357245340483503}. Best is trial 1 with value: 3.0864136616388955.\n"
     ]
    },
    {
     "name": "stdout",
     "output_type": "stream",
     "text": [
      "No. of Epoch: 9; Validation accuracy: 49.65%; train accuracies: valence 77.60%, energy 73.96%, danceability 81.51%\n"
     ]
    },
    {
     "name": "stderr",
     "output_type": "stream",
     "text": [
      "[I 2024-05-21 17:33:35,047] Trial 2 finished with value: 3.191865086555481 and parameters: {'lr': 2.870240237409906e-05, 'num_epochs': 5, 'batch_size': 64, 'weight_decay': 0.19239259526771582, 'dropout_rate': 0.05029337097032434}. Best is trial 1 with value: 3.0864136616388955.\n"
     ]
    },
    {
     "name": "stdout",
     "output_type": "stream",
     "text": [
      "No. of Epoch: 4; Validation accuracy: 42.36%; train accuracies: valence 45.57%, energy 52.08%, danceability 64.06%\n"
     ]
    },
    {
     "name": "stderr",
     "output_type": "stream",
     "text": [
      "[I 2024-05-21 17:34:04,964] Trial 3 finished with value: 3.112999598185221 and parameters: {'lr': 3.918162545879459e-05, 'num_epochs': 5, 'batch_size': 16, 'weight_decay': 0.2867286053768651, 'dropout_rate': 0.2880915278877951}. Best is trial 1 with value: 3.0864136616388955.\n"
     ]
    },
    {
     "name": "stdout",
     "output_type": "stream",
     "text": [
      "No. of Epoch: 4; Validation accuracy: 44.10%; train accuracies: valence 60.68%, energy 52.60%, danceability 59.90%\n"
     ]
    },
    {
     "name": "stderr",
     "output_type": "stream",
     "text": [
      "[I 2024-05-21 17:34:58,451] Trial 4 finished with value: 3.108652035395304 and parameters: {'lr': 2.2512227644146603e-05, 'num_epochs': 9, 'batch_size': 16, 'weight_decay': 0.028614203665095664, 'dropout_rate': 0.09050785353432421}. Best is trial 1 with value: 3.0864136616388955.\n"
     ]
    },
    {
     "name": "stdout",
     "output_type": "stream",
     "text": [
      "No. of Epoch: 8; Validation accuracy: 50.69%; train accuracies: valence 69.01%, energy 72.92%, danceability 76.82%\n"
     ]
    },
    {
     "name": "stderr",
     "output_type": "stream",
     "text": [
      "[I 2024-05-21 17:35:54,080] Trial 5 finished with value: 3.0938605467478433 and parameters: {'lr': 3.847523007788696e-05, 'num_epochs': 10, 'batch_size': 32, 'weight_decay': 0.0640133110121321, 'dropout_rate': 0.0939758181442993}. Best is trial 1 with value: 3.0864136616388955.\n"
     ]
    },
    {
     "name": "stdout",
     "output_type": "stream",
     "text": [
      "No. of Epoch: 9; Validation accuracy: 50.35%; train accuracies: valence 83.07%, energy 85.42%, danceability 84.38%\n"
     ]
    },
    {
     "name": "stderr",
     "output_type": "stream",
     "text": [
      "[I 2024-05-21 17:36:22,709] Trial 6 finished with value: 3.1062621672948203 and parameters: {'lr': 2.837596102006958e-05, 'num_epochs': 5, 'batch_size': 16, 'weight_decay': 0.045331038799320454, 'dropout_rate': 0.07726064118970859}. Best is trial 1 with value: 3.0864136616388955.\n"
     ]
    },
    {
     "name": "stdout",
     "output_type": "stream",
     "text": [
      "No. of Epoch: 4; Validation accuracy: 46.53%; train accuracies: valence 69.53%, energy 60.94%, danceability 67.97%\n"
     ]
    },
    {
     "name": "stderr",
     "output_type": "stream",
     "text": [
      "[I 2024-05-21 17:37:09,251] Trial 7 finished with value: 3.0847971439361572 and parameters: {'lr': 3.8290506222532054e-05, 'num_epochs': 10, 'batch_size': 64, 'weight_decay': 0.22409560346314, 'dropout_rate': 0.1154595228131677}. Best is trial 7 with value: 3.0847971439361572.\n"
     ]
    },
    {
     "name": "stdout",
     "output_type": "stream",
     "text": [
      "No. of Epoch: 9; Validation accuracy: 47.57%; train accuracies: valence 77.60%, energy 66.15%, danceability 63.54%\n"
     ]
    },
    {
     "name": "stderr",
     "output_type": "stream",
     "text": [
      "[I 2024-05-21 17:37:55,270] Trial 8 finished with value: 2.9503024419148765 and parameters: {'lr': 2.1958855848517977e-05, 'num_epochs': 9, 'batch_size': 32, 'weight_decay': 0.1539785454806838, 'dropout_rate': 0.057008010800600126}. Best is trial 8 with value: 2.9503024419148765.\n"
     ]
    },
    {
     "name": "stdout",
     "output_type": "stream",
     "text": [
      "No. of Epoch: 8; Validation accuracy: 51.74%; train accuracies: valence 64.32%, energy 73.18%, danceability 83.07%\n"
     ]
    },
    {
     "name": "stderr",
     "output_type": "stream",
     "text": [
      "[I 2024-05-21 17:38:17,652] Trial 9 finished with value: 3.2274989684422812 and parameters: {'lr': 4.1805430970610263e-05, 'num_epochs': 4, 'batch_size': 16, 'weight_decay': 0.040642854638596584, 'dropout_rate': 0.2935984349410949}. Best is trial 8 with value: 2.9503024419148765.\n"
     ]
    },
    {
     "name": "stdout",
     "output_type": "stream",
     "text": [
      "No. of Epoch: 3; Validation accuracy: 43.06%; train accuracies: valence 40.62%, energy 45.31%, danceability 47.14%\n",
      "Best hyperparameters:  {'lr': 2.1958855848517977e-05, 'num_epochs': 9, 'batch_size': 32, 'weight_decay': 0.1539785454806838, 'dropout_rate': 0.057008010800600126}\n",
      "Best value (negative validation loss):  2.9503024419148765\n"
     ]
    }
   ],
   "source": [
    "logging.set_verbosity_error()\n",
    "study = optuna.create_study(direction='minimize')\n",
    "study.optimize(objective_bert, n_trials=10)\n",
    "\n",
    "print('Best hyperparameters: ', study.best_params)\n",
    "print('Best value (negative validation loss): ', study.best_value)"
   ]
  },
  {
   "cell_type": "markdown",
   "metadata": {},
   "source": [
    "### Baseline BERT"
   ]
  },
  {
   "cell_type": "code",
   "execution_count": null,
   "metadata": {},
   "outputs": [],
   "source": [
    "max_len = 128\n",
    "class BertLayer(Layer):\n",
    "    def __init__(self, **kwargs):\n",
    "        super(BertLayer, self).__init__(**kwargs)\n",
    "        self.bert_model = TFBertModel.from_pretrained('bert-base-uncased')\n",
    "\n",
    "    def call(self, inputs):\n",
    "        input_ids, attention_mask = inputs\n",
    "        bert_output = self.bert_model([input_ids, attention_mask])\n",
    "        cls_token = bert_output.last_hidden_state[:, 0, :]\n",
    "        return cls_token\n",
    "\n",
    "def build_bert_model():\n",
    "    input_ids = Input(shape=(max_len,), dtype=tf.int32, name='input_ids')\n",
    "    attention_mask = Input(shape=(max_len,), dtype=tf.int32, name='attention_mask')\n",
    "\n",
    "    bert_layer = BertLayer()\n",
    "    cls_token = bert_layer([input_ids, attention_mask])\n",
    "    cls_token = Dropout(0.3)(cls_token)\n",
    "\n",
    "    dense_valence = Dense(y_valence.shape[1], activation='softmax', name='valence_output', kernel_regularizer=tf.keras.regularizers.l2(0.01))(cls_token)\n",
    "    dense_energy = Dense(y_energy.shape[1], activation='softmax', name='energy_output', kernel_regularizer=tf.keras.regularizers.l2(0.01))(cls_token)\n",
    "    dense_danceability = Dense(y_danceability.shape[1], activation='softmax', name='danceability_output', kernel_regularizer=tf.keras.regularizers.l2(0.01))(cls_token)\n",
    "    \n",
    "    model = Model(inputs=[input_ids, attention_mask], outputs=[dense_valence, dense_energy, dense_danceability])\n",
    "    return model"
   ]
  },
  {
   "cell_type": "code",
   "execution_count": null,
   "metadata": {},
   "outputs": [],
   "source": [
    "model = build_bert_model()\n",
    "model.summary()"
   ]
  },
  {
   "cell_type": "code",
   "execution_count": null,
   "metadata": {},
   "outputs": [],
   "source": [
    "early_stopping = EarlyStopping(monitor='val_loss', patience=3)\n",
    "\n",
    "# 设置学习率调度器\n",
    "num_train_steps = len(X_train_input_ids) // 16 * 5  # 数据量 / batch_size * epochs\n",
    "num_warmup_steps = num_train_steps // 10  # 通常设置为训练步骤的10%\n",
    "\n",
    "optimizer = Adam(learning_rate=tf.keras.optimizers.schedules.PolynomialDecay(\n",
    "    initial_learning_rate=2e-5,\n",
    "    decay_steps=num_train_steps,\n",
    "    end_learning_rate=0.0\n",
    "))\n",
    "\n",
    "model.compile(optimizer=optimizer,\n",
    "              loss={'valence_output': 'categorical_crossentropy', \n",
    "                    'energy_output': 'categorical_crossentropy', \n",
    "                    'danceability_output': 'categorical_crossentropy'},\n",
    "              metrics={'valence_output': 'accuracy', \n",
    "                       'energy_output': 'accuracy', \n",
    "                       'danceability_output': 'accuracy'})\n",
    "\n",
    "history = model.fit(\n",
    "    [X_train_input_ids, X_train_attention_masks],\n",
    "    {'valence_output': y_train_valence, 'energy_output': y_train_energy, 'danceability_output': y_train_danceability},\n",
    "    validation_data=([X_val_input_ids, X_val_attention_masks], {'valence_output': y_val_valence, 'energy_output': y_val_energy, 'danceability_output': y_val_danceability}),\n",
    "    epochs=5,\n",
    "    batch_size=16,\n",
    "    callbacks=[early_stopping]\n",
    ")"
   ]
  },
  {
   "cell_type": "code",
   "execution_count": null,
   "metadata": {},
   "outputs": [],
   "source": [
    "loss, valence_output_loss, energy_output_loss, danceability_output_loss, accuracy_valence, accuracy_energy, accuracy_danceability = model.evaluate(\n",
    "    [X_test_input_ids, X_test_attention_masks], \n",
    "    [y_test_valence, y_test_energy, y_test_danceability]\n",
    ")\n",
    "\n",
    "print(f'Test Loss: {loss}, valence_output_loss: {valence_output_loss}, energy_output_loss: {energy_output_loss}, danceability_output_loss: {danceability_output_loss}')\n",
    "print(f'Test Accuracy Valence: {accuracy_valence}, Test Accuracy Energy: {accuracy_energy}, Test Accuracy Danceability: {accuracy_danceability}')"
   ]
  },
  {
   "cell_type": "markdown",
   "metadata": {},
   "source": [
    "I have implemented lr and weight decay onto this, therefore it has warm up and decay now with l2 reg, and i only ran 5 epochs because its quite slow on my mac, I noticed the loss is still decreasing drastically, therefore i believe runing more epochs will eventually boost the acc by a lot, can you guys make it 10-15 epochs and test out whats going on at that. Thx, ill now push this version onto github."
   ]
  },
  {
   "cell_type": "markdown",
   "metadata": {},
   "source": [
    "## RoBERTa"
   ]
  },
  {
   "cell_type": "markdown",
   "metadata": {},
   "source": [
    "### Baseline RoBERTa"
   ]
  },
  {
   "cell_type": "code",
   "execution_count": null,
   "metadata": {},
   "outputs": [],
   "source": [
    "tokenizer = RobertaTokenizer.from_pretrained('roberta-base')\n",
    "max_len = 128\n",
    "\n",
    "X_train_input_ids, X_train_attention_masks = tokenize(X_train, tokenizer, max_len)\n",
    "X_val_input_ids, X_val_attention_masks = tokenize(X_val, tokenizer, max_len)\n",
    "X_test_input_ids, X_test_attention_masks = tokenize(X_test, tokenizer, max_len)"
   ]
  },
  {
   "cell_type": "code",
   "execution_count": null,
   "metadata": {},
   "outputs": [],
   "source": [
    "class RoBERTaLayer(Layer):\n",
    "    def __init__(self, **kwargs):\n",
    "        super(RoBERTaLayer, self).__init__(**kwargs)\n",
    "        self.roberta_model = TFRobertaModel.from_pretrained('roberta-base')\n",
    "\n",
    "    def call(self, inputs):\n",
    "        input_ids, attention_mask = inputs\n",
    "        roberta_output = self.roberta_model([input_ids, attention_mask])\n",
    "        cls_token = roberta_output.last_hidden_state[:, 0, :]\n",
    "        return cls_token\n",
    "\n",
    "def build_bert_model():\n",
    "    input_ids = Input(shape=(max_len,), dtype=tf.int32, name='input_ids')\n",
    "    attention_mask = Input(shape=(max_len,), dtype=tf.int32, name='attention_mask')\n",
    "\n",
    "    bert_layer = BertLayer()\n",
    "    cls_token = bert_layer([input_ids, attention_mask])\n",
    "    cls_token = Dropout(0.3)(cls_token)\n",
    "\n",
    "    dense_valence = Dense(y_valence.shape[1], activation='softmax', name='valence_output', kernel_regularizer=tf.keras.regularizers.l2(0.01))(cls_token)\n",
    "    dense_energy = Dense(y_energy.shape[1], activation='softmax', name='energy_output', kernel_regularizer=tf.keras.regularizers.l2(0.01))(cls_token)\n",
    "    dense_danceability = Dense(y_danceability.shape[1], activation='softmax', name='danceability_output', kernel_regularizer=tf.keras.regularizers.l2(0.01))(cls_token)\n",
    "    \n",
    "    model = Model(inputs=[input_ids, attention_mask], outputs=[dense_valence, dense_energy, dense_danceability])\n",
    "    return model\n",
    "\n",
    "def build_roberta_model():\n",
    "    input_ids = Input(shape=(max_len,), dtype=tf.int32, name='input_ids')\n",
    "    attention_mask = Input(shape=(max_len,), dtype=tf.int32, name='attention_mask')\n",
    "    \n",
    "    roberta_layer = RoBERTaLayer()\n",
    "    cls_token = roberta_layer([input_ids, attention_mask])\n",
    "    cls_token = Dropout(0.3)(cls_token)\n",
    "\n",
    "    dense_valence = Dense(y_valence.shape[1], activation='softmax', name='valence_output', kernel_regularizer=tf.keras.regularizers.l2(0.01))(cls_token)\n",
    "    dense_energy = Dense(y_energy.shape[1], activation='softmax', name='energy_output', kernel_regularizer=tf.keras.regularizers.l2(0.01))(cls_token)\n",
    "    dense_danceability = Dense(y_danceability.shape[1], activation='softmax', name='danceability_output', kernel_regularizer=tf.keras.regularizers.l2(0.01))(cls_token)\n",
    "    \n",
    "    model = Model(inputs=[input_ids, attention_mask], outputs=[dense_valence, dense_energy, dense_danceability])\n",
    "    return model\n",
    "\n",
    "def get_optimizer_and_scheduler(num_train_steps, num_warmup_steps):\n",
    "    optimizer = Adam(learning_rate=2e-5, weight_decay=0.01)\n",
    "    lr_scheduler = get_linear_schedule_with_warmup(\n",
    "        optimizer,\n",
    "        num_warmup_steps=num_warmup_steps,\n",
    "        num_training_steps=num_train_steps\n",
    "    )\n",
    "    return optimizer, lr_scheduler\n",
    "\n",
    "num_train_steps = len(X_train_input_ids) // 16 * 5\n",
    "num_warmup_steps = num_train_steps // 10 "
   ]
  },
  {
   "cell_type": "code",
   "execution_count": null,
   "metadata": {},
   "outputs": [],
   "source": [
    "model = build_roberta_model()"
   ]
  },
  {
   "cell_type": "code",
   "execution_count": null,
   "metadata": {},
   "outputs": [],
   "source": [
    "early_stopping = EarlyStopping(monitor='val_loss', patience=3)\n",
    "\n",
    "# 设置学习率调度器\n",
    "num_train_steps = len(X_train_input_ids) // 16 * 5\n",
    "num_warmup_steps = num_train_steps // 10 \n",
    "\n",
    "optimizer = Adam(learning_rate=tf.keras.optimizers.schedules.PolynomialDecay(\n",
    "    initial_learning_rate=2e-5,\n",
    "    decay_steps=num_train_steps,\n",
    "    end_learning_rate=0.0\n",
    "))\n",
    "\n",
    "model.compile(optimizer=optimizer,\n",
    "              loss={'valence_output': 'categorical_crossentropy', \n",
    "                    'energy_output': 'categorical_crossentropy', \n",
    "                    'danceability_output': 'categorical_crossentropy'},\n",
    "              metrics={'valence_output': 'accuracy', \n",
    "                       'energy_output': 'accuracy', \n",
    "                       'danceability_output': 'accuracy'})\n",
    "\n",
    "history = model.fit(\n",
    "    [X_train_input_ids, X_train_attention_masks],\n",
    "    {'valence_output': y_train_valence, 'energy_output': y_train_energy, 'danceability_output': y_train_danceability},\n",
    "    validation_data=([X_val_input_ids, X_val_attention_masks], {'valence_output': y_val_valence, 'energy_output': y_val_energy, 'danceability_output': y_val_danceability}),\n",
    "    epochs=5,\n",
    "    batch_size=16,\n",
    "    callbacks=[early_stopping]\n",
    ")"
   ]
  },
  {
   "cell_type": "code",
   "execution_count": null,
   "metadata": {},
   "outputs": [],
   "source": [
    "roberta_loss, roberta_valence_output_loss, roberta_energy_output_loss, roberta_danceability_output_loss, roberta_accuracy_valence, roberta_accuracy_energy, roberta_accuracy_danceability = model.evaluate(\n",
    "    [X_test_input_ids, X_test_attention_masks], \n",
    "    [y_test_valence, y_test_energy, y_test_danceability]\n",
    ")\n",
    "\n",
    "\n",
    "print(f'Test Loss: {roberta_loss}, valence_output_loss: {roberta_valence_output_loss}, energy_output_loss: {roberta_energy_output_loss}, danceability_output_loss: {roberta_accuracy_valence}')\n",
    "print(f'Test Accuracy Valence: {roberta_accuracy_valence}, Test Accuracy Energy: {roberta_accuracy_energy}, Test Accuracy Danceability: {roberta_accuracy_danceability}')"
   ]
  },
  {
   "cell_type": "markdown",
   "metadata": {},
   "source": [
    "### Hyperparameter tuning"
   ]
  },
  {
   "cell_type": "code",
   "execution_count": 27,
   "metadata": {},
   "outputs": [],
   "source": [
    "def objective_roberta(trial):\n",
    "    params = {\n",
    "        'lr': trial.suggest_float('lr', 2e-5, 5e-5, log=True),\n",
    "        'num_epochs': trial.suggest_int('num_epochs', 4, 10),\n",
    "        'batch_size': trial.suggest_categorical('batch_size', [16, 32, 64]),\n",
    "        'weight_decay': trial.suggest_float('weight_decay', 0.01, 0.3),\n",
    "        'dropout_rate': trial.suggest_float('dropout_rate', 0.05, 0.3),\n",
    "        'model_name' : 'roberta-base',\n",
    "    }\n",
    "    val_accuracy, avg_val_loss, train_accuracy_valence, train_accuracy_energy, train_accuracy_danceability, train_loss = train_and_evaluate(params)\n",
    "    trial.set_user_attr(\"val_accuracy\", val_accuracy)\n",
    "    trial.set_user_attr(\"avg_val_loss\", avg_val_loss)\n",
    "    trial.set_user_attr(\"train_accuracy_valence\", train_accuracy_valence)\n",
    "    trial.set_user_attr(\"train_accuracy_energy\", train_accuracy_energy)\n",
    "    trial.set_user_attr(\"train_accuracy_danceability\", train_accuracy_danceability)\n",
    "    trial.set_user_attr(\"train_loss\", train_loss)\n",
    "    return avg_val_loss"
   ]
  },
  {
   "cell_type": "code",
   "execution_count": 28,
   "metadata": {},
   "outputs": [
    {
     "name": "stderr",
     "output_type": "stream",
     "text": [
      "[I 2024-05-21 17:39:22,257] A new study created in memory with name: no-name-1269b4b6-3c6f-44fb-bbb0-e54d784c5381\n",
      "[I 2024-05-21 17:40:49,709] Trial 0 finished with value: 1.1033253073692322 and parameters: {'lr': 2.0329938663928718e-05, 'num_epochs': 5, 'batch_size': 64, 'weight_decay': 0.13128676609527015, 'dropout_rate': 0.2125115273215718}. Best is trial 0 with value: 1.1033253073692322.\n"
     ]
    },
    {
     "name": "stdout",
     "output_type": "stream",
     "text": [
      "No. of Epoch: 4; Validation accuracy: 36.11%; train accuracies: valence 37.76%, energy 44.53%, danceability 47.92%\n"
     ]
    },
    {
     "name": "stderr",
     "output_type": "stream",
     "text": [
      "[I 2024-05-21 17:42:35,341] Trial 1 finished with value: 1.1011657118797302 and parameters: {'lr': 2.1498706325667825e-05, 'num_epochs': 5, 'batch_size': 64, 'weight_decay': 0.17309629156005488, 'dropout_rate': 0.19528781006618745}. Best is trial 1 with value: 1.1011657118797302.\n"
     ]
    },
    {
     "name": "stdout",
     "output_type": "stream",
     "text": [
      "No. of Epoch: 4; Validation accuracy: 39.24%; train accuracies: valence 38.28%, energy 40.62%, danceability 42.97%\n"
     ]
    },
    {
     "name": "stderr",
     "output_type": "stream",
     "text": [
      "[I 2024-05-21 17:43:01,340] Trial 2 finished with value: 1.1023189822832744 and parameters: {'lr': 3.685182279362353e-05, 'num_epochs': 4, 'batch_size': 16, 'weight_decay': 0.025766292975500024, 'dropout_rate': 0.14525775119411688}. Best is trial 1 with value: 1.1011657118797302.\n"
     ]
    },
    {
     "name": "stdout",
     "output_type": "stream",
     "text": [
      "No. of Epoch: 3; Validation accuracy: 37.15%; train accuracies: valence 36.46%, energy 44.27%, danceability 44.01%\n"
     ]
    },
    {
     "name": "stderr",
     "output_type": "stream",
     "text": [
      "[I 2024-05-21 17:43:25,523] Trial 3 finished with value: 1.0924159089724224 and parameters: {'lr': 2.8818798332946995e-05, 'num_epochs': 4, 'batch_size': 16, 'weight_decay': 0.19742560417808025, 'dropout_rate': 0.2274185815203844}. Best is trial 3 with value: 1.0924159089724224.\n"
     ]
    },
    {
     "name": "stdout",
     "output_type": "stream",
     "text": [
      "No. of Epoch: 3; Validation accuracy: 38.89%; train accuracies: valence 36.72%, energy 40.62%, danceability 42.71%\n"
     ]
    },
    {
     "name": "stderr",
     "output_type": "stream",
     "text": [
      "[I 2024-05-21 17:44:18,021] Trial 4 finished with value: 1.0849867661794026 and parameters: {'lr': 3.4727942858464604e-05, 'num_epochs': 9, 'batch_size': 16, 'weight_decay': 0.10098697563054883, 'dropout_rate': 0.10149242456202064}. Best is trial 4 with value: 1.0849867661794026.\n"
     ]
    },
    {
     "name": "stdout",
     "output_type": "stream",
     "text": [
      "No. of Epoch: 8; Validation accuracy: 42.01%; train accuracies: valence 58.85%, energy 64.06%, danceability 63.54%\n"
     ]
    },
    {
     "name": "stderr",
     "output_type": "stream",
     "text": [
      "[I 2024-05-21 17:45:21,531] Trial 5 finished with value: 1.0950578451156616 and parameters: {'lr': 4.1900851479988604e-05, 'num_epochs': 7, 'batch_size': 64, 'weight_decay': 0.17836355031387507, 'dropout_rate': 0.08582905507578333}. Best is trial 4 with value: 1.0849867661794026.\n"
     ]
    },
    {
     "name": "stdout",
     "output_type": "stream",
     "text": [
      "No. of Epoch: 6; Validation accuracy: 44.79%; train accuracies: valence 50.26%, energy 51.56%, danceability 53.12%\n"
     ]
    },
    {
     "name": "stderr",
     "output_type": "stream",
     "text": [
      "[I 2024-05-21 17:46:19,066] Trial 6 finished with value: 1.1655245820681255 and parameters: {'lr': 3.208465225206525e-05, 'num_epochs': 10, 'batch_size': 16, 'weight_decay': 0.19619049875417097, 'dropout_rate': 0.2717387386491114}. Best is trial 4 with value: 1.0849867661794026.\n"
     ]
    },
    {
     "name": "stdout",
     "output_type": "stream",
     "text": [
      "No. of Epoch: 9; Validation accuracy: 51.04%; train accuracies: valence 86.46%, energy 86.72%, danceability 82.55%\n"
     ]
    },
    {
     "name": "stderr",
     "output_type": "stream",
     "text": [
      "[I 2024-05-21 17:48:00,125] Trial 7 finished with value: 1.100628137588501 and parameters: {'lr': 2.522423456386463e-05, 'num_epochs': 8, 'batch_size': 64, 'weight_decay': 0.18972938932495473, 'dropout_rate': 0.17970741576577443}. Best is trial 4 with value: 1.0849867661794026.\n"
     ]
    },
    {
     "name": "stdout",
     "output_type": "stream",
     "text": [
      "No. of Epoch: 7; Validation accuracy: 42.01%; train accuracies: valence 44.79%, energy 47.66%, danceability 55.73%\n"
     ]
    },
    {
     "name": "stderr",
     "output_type": "stream",
     "text": [
      "[I 2024-05-21 17:48:31,219] Trial 8 finished with value: 1.0942775408426921 and parameters: {'lr': 3.4441202059740275e-05, 'num_epochs': 5, 'batch_size': 32, 'weight_decay': 0.047273561082108236, 'dropout_rate': 0.11300513613666673}. Best is trial 4 with value: 1.0849867661794026.\n"
     ]
    },
    {
     "name": "stdout",
     "output_type": "stream",
     "text": [
      "No. of Epoch: 4; Validation accuracy: 40.62%; train accuracies: valence 36.98%, energy 44.53%, danceability 45.57%\n"
     ]
    },
    {
     "name": "stderr",
     "output_type": "stream",
     "text": [
      "[I 2024-05-21 17:49:18,843] Trial 9 finished with value: 1.135833462079366 and parameters: {'lr': 2.412610360582795e-05, 'num_epochs': 8, 'batch_size': 16, 'weight_decay': 0.2888010093362711, 'dropout_rate': 0.10280913018791517}. Best is trial 4 with value: 1.0849867661794026.\n"
     ]
    },
    {
     "name": "stdout",
     "output_type": "stream",
     "text": [
      "No. of Epoch: 7; Validation accuracy: 42.36%; train accuracies: valence 76.56%, energy 65.89%, danceability 69.01%\n",
      "Best hyperparameters:  {'lr': 3.4727942858464604e-05, 'num_epochs': 9, 'batch_size': 16, 'weight_decay': 0.10098697563054883, 'dropout_rate': 0.10149242456202064}\n",
      "Best value (negative validation loss):  1.0849867661794026\n"
     ]
    }
   ],
   "source": [
    "logging.set_verbosity_error()\n",
    "study = optuna.create_study(direction='minimize')\n",
    "study.optimize(objective_roberta, n_trials=10)\n",
    "\n",
    "print('Best hyperparameters: ', study.best_params)\n",
    "print('Best value (negative validation loss): ', study.best_value)"
   ]
  },
  {
   "cell_type": "markdown",
   "metadata": {},
   "source": []
  },
  {
   "cell_type": "markdown",
   "metadata": {},
   "source": [
    "## XLM Roberta"
   ]
  },
  {
   "cell_type": "code",
   "execution_count": 29,
   "metadata": {},
   "outputs": [
    {
     "name": "stderr",
     "output_type": "stream",
     "text": [
      "c:\\Users\\Alex\\anaconda3\\envs\\pt\\Lib\\site-packages\\transformers\\tokenization_utils_base.py:2699: FutureWarning: The `pad_to_max_length` argument is deprecated and will be removed in a future version, use `padding=True` or `padding='longest'` to pad to the longest sequence in the batch, or use `padding='max_length'` to pad to a max length. In this case, you can give a specific length with `max_length` (e.g. `max_length=45`) or leave max_length to None to pad to the maximal input size of the model (e.g. 512 for Bert).\n",
      "  warnings.warn(\n"
     ]
    }
   ],
   "source": [
    "tokenizer = AutoTokenizer.from_pretrained('xlm-roberta-base')\n",
    "max_len = 128\n",
    "\n",
    "X_train_input_ids, X_train_attention_masks = tokenize(X_train, tokenizer, max_len)\n",
    "X_val_input_ids, X_val_attention_masks = tokenize(X_val, tokenizer, max_len)\n",
    "X_test_input_ids, X_test_attention_masks = tokenize(X_test, tokenizer, max_len)"
   ]
  },
  {
   "cell_type": "code",
   "execution_count": 30,
   "metadata": {},
   "outputs": [],
   "source": [
    "def objective_xlm_roberta(trial):\n",
    "    params = {\n",
    "        'lr': trial.suggest_float('lr', 2e-5, 5e-5, log=True),\n",
    "        'num_epochs': trial.suggest_int('num_epochs', 4, 10),\n",
    "        'batch_size': trial.suggest_categorical('batch_size', [16, 32, 64]),\n",
    "        'weight_decay': trial.suggest_float('weight_decay', 0.01, 0.3),\n",
    "        'dropout_rate': trial.suggest_float('dropout_rate', 0.05, 0.3),\n",
    "        'model_name' : 'xlm-roberta-base',\n",
    "    }\n",
    "    val_accuracy, avg_val_loss, train_accuracy_valence, train_accuracy_energy, train_accuracy_danceability, train_loss = train_and_evaluate(params)\n",
    "    trial.set_user_attr(\"val_accuracy\", val_accuracy)\n",
    "    trial.set_user_attr(\"avg_val_loss\", avg_val_loss)\n",
    "    trial.set_user_attr(\"train_accuracy_valence\", train_accuracy_valence)\n",
    "    trial.set_user_attr(\"train_accuracy_energy\", train_accuracy_energy)\n",
    "    trial.set_user_attr(\"train_accuracy_danceability\", train_accuracy_danceability)\n",
    "    trial.set_user_attr(\"train_loss\", train_loss)\n",
    "    return avg_val_loss"
   ]
  },
  {
   "cell_type": "code",
   "execution_count": 31,
   "metadata": {},
   "outputs": [
    {
     "name": "stderr",
     "output_type": "stream",
     "text": [
      "[I 2024-05-21 17:51:00,497] A new study created in memory with name: no-name-2bbb5723-6a34-4475-9b80-3cc917c95bd5\n",
      "[I 2024-05-21 17:52:02,298] Trial 0 finished with value: 1.093851923942566 and parameters: {'lr': 4.5262511107956246e-05, 'num_epochs': 7, 'batch_size': 16, 'weight_decay': 0.21902998437637922, 'dropout_rate': 0.0712138360909524}. Best is trial 0 with value: 1.093851923942566.\n"
     ]
    },
    {
     "name": "stdout",
     "output_type": "stream",
     "text": [
      "No. of Epoch: 6; Validation accuracy: 34.38%; train accuracies: valence 37.50%, energy 36.46%, danceability 41.67%\n"
     ]
    },
    {
     "name": "stderr",
     "output_type": "stream",
     "text": [
      "[W 2024-05-21 18:03:06,348] Trial 1 failed with parameters: {'lr': 2.4679163498068568e-05, 'num_epochs': 7, 'batch_size': 64, 'weight_decay': 0.22847151379840608, 'dropout_rate': 0.13112821185437346} because of the following error: KeyboardInterrupt().\n",
      "Traceback (most recent call last):\n",
      "  File \"c:\\Users\\Alex\\anaconda3\\envs\\pt\\Lib\\site-packages\\optuna\\study\\_optimize.py\", line 196, in _run_trial\n",
      "    value_or_values = func(trial)\n",
      "                      ^^^^^^^^^^^\n",
      "  File \"C:\\Users\\Alex\\AppData\\Local\\Temp\\ipykernel_7700\\646330640.py\", line 10, in objective_xlm_roberta\n",
      "    val_accuracy, avg_val_loss, train_accuracy_valence, train_accuracy_energy, train_accuracy_danceability, train_loss = train_and_evaluate(params)\n",
      "                                                                                                                         ^^^^^^^^^^^^^^^^^^^^^^^^^^\n",
      "  File \"C:\\Users\\Alex\\AppData\\Local\\Temp\\ipykernel_7700\\404054282.py\", line 53, in train_and_evaluate\n",
      "    loss.backward()\n",
      "  File \"c:\\Users\\Alex\\anaconda3\\envs\\pt\\Lib\\site-packages\\torch\\_tensor.py\", line 525, in backward\n",
      "    torch.autograd.backward(\n",
      "  File \"c:\\Users\\Alex\\anaconda3\\envs\\pt\\Lib\\site-packages\\torch\\autograd\\__init__.py\", line 267, in backward\n",
      "    _engine_run_backward(\n",
      "  File \"c:\\Users\\Alex\\anaconda3\\envs\\pt\\Lib\\site-packages\\torch\\autograd\\graph.py\", line 744, in _engine_run_backward\n",
      "    return Variable._execution_engine.run_backward(  # Calls into the C++ engine to run the backward pass\n",
      "           ^^^^^^^^^^^^^^^^^^^^^^^^^^^^^^^^^^^^^^^^^^^^^^^^^^^^^^^^^^^^^^^^^^^^^^^^^^^^^^^^^^^^^^^^^^^^^^\n",
      "KeyboardInterrupt\n",
      "[W 2024-05-21 18:03:06,351] Trial 1 failed with value None.\n"
     ]
    },
    {
     "ename": "KeyboardInterrupt",
     "evalue": "",
     "output_type": "error",
     "traceback": [
      "\u001b[1;31m---------------------------------------------------------------------------\u001b[0m",
      "\u001b[1;31mKeyboardInterrupt\u001b[0m                         Traceback (most recent call last)",
      "Cell \u001b[1;32mIn[31], line 3\u001b[0m\n\u001b[0;32m      1\u001b[0m logging\u001b[38;5;241m.\u001b[39mset_verbosity_error()\n\u001b[0;32m      2\u001b[0m study \u001b[38;5;241m=\u001b[39m optuna\u001b[38;5;241m.\u001b[39mcreate_study(direction\u001b[38;5;241m=\u001b[39m\u001b[38;5;124m'\u001b[39m\u001b[38;5;124mminimize\u001b[39m\u001b[38;5;124m'\u001b[39m)\n\u001b[1;32m----> 3\u001b[0m \u001b[43mstudy\u001b[49m\u001b[38;5;241;43m.\u001b[39;49m\u001b[43moptimize\u001b[49m\u001b[43m(\u001b[49m\u001b[43mobjective_xlm_roberta\u001b[49m\u001b[43m,\u001b[49m\u001b[43m \u001b[49m\u001b[43mn_trials\u001b[49m\u001b[38;5;241;43m=\u001b[39;49m\u001b[38;5;241;43m3\u001b[39;49m\u001b[43m)\u001b[49m\n\u001b[0;32m      5\u001b[0m \u001b[38;5;28mprint\u001b[39m(\u001b[38;5;124m'\u001b[39m\u001b[38;5;124mBest hyperparameters: \u001b[39m\u001b[38;5;124m'\u001b[39m, study\u001b[38;5;241m.\u001b[39mbest_params)\n\u001b[0;32m      6\u001b[0m \u001b[38;5;28mprint\u001b[39m(\u001b[38;5;124m'\u001b[39m\u001b[38;5;124mBest value (negative validation loss): \u001b[39m\u001b[38;5;124m'\u001b[39m, study\u001b[38;5;241m.\u001b[39mbest_value)\n",
      "File \u001b[1;32mc:\\Users\\Alex\\anaconda3\\envs\\pt\\Lib\\site-packages\\optuna\\study\\study.py:451\u001b[0m, in \u001b[0;36mStudy.optimize\u001b[1;34m(self, func, n_trials, timeout, n_jobs, catch, callbacks, gc_after_trial, show_progress_bar)\u001b[0m\n\u001b[0;32m    348\u001b[0m \u001b[38;5;28;01mdef\u001b[39;00m \u001b[38;5;21moptimize\u001b[39m(\n\u001b[0;32m    349\u001b[0m     \u001b[38;5;28mself\u001b[39m,\n\u001b[0;32m    350\u001b[0m     func: ObjectiveFuncType,\n\u001b[1;32m   (...)\u001b[0m\n\u001b[0;32m    357\u001b[0m     show_progress_bar: \u001b[38;5;28mbool\u001b[39m \u001b[38;5;241m=\u001b[39m \u001b[38;5;28;01mFalse\u001b[39;00m,\n\u001b[0;32m    358\u001b[0m ) \u001b[38;5;241m-\u001b[39m\u001b[38;5;241m>\u001b[39m \u001b[38;5;28;01mNone\u001b[39;00m:\n\u001b[0;32m    359\u001b[0m \u001b[38;5;250m    \u001b[39m\u001b[38;5;124;03m\"\"\"Optimize an objective function.\u001b[39;00m\n\u001b[0;32m    360\u001b[0m \n\u001b[0;32m    361\u001b[0m \u001b[38;5;124;03m    Optimization is done by choosing a suitable set of hyperparameter values from a given\u001b[39;00m\n\u001b[1;32m   (...)\u001b[0m\n\u001b[0;32m    449\u001b[0m \u001b[38;5;124;03m            If nested invocation of this method occurs.\u001b[39;00m\n\u001b[0;32m    450\u001b[0m \u001b[38;5;124;03m    \"\"\"\u001b[39;00m\n\u001b[1;32m--> 451\u001b[0m     \u001b[43m_optimize\u001b[49m\u001b[43m(\u001b[49m\n\u001b[0;32m    452\u001b[0m \u001b[43m        \u001b[49m\u001b[43mstudy\u001b[49m\u001b[38;5;241;43m=\u001b[39;49m\u001b[38;5;28;43mself\u001b[39;49m\u001b[43m,\u001b[49m\n\u001b[0;32m    453\u001b[0m \u001b[43m        \u001b[49m\u001b[43mfunc\u001b[49m\u001b[38;5;241;43m=\u001b[39;49m\u001b[43mfunc\u001b[49m\u001b[43m,\u001b[49m\n\u001b[0;32m    454\u001b[0m \u001b[43m        \u001b[49m\u001b[43mn_trials\u001b[49m\u001b[38;5;241;43m=\u001b[39;49m\u001b[43mn_trials\u001b[49m\u001b[43m,\u001b[49m\n\u001b[0;32m    455\u001b[0m \u001b[43m        \u001b[49m\u001b[43mtimeout\u001b[49m\u001b[38;5;241;43m=\u001b[39;49m\u001b[43mtimeout\u001b[49m\u001b[43m,\u001b[49m\n\u001b[0;32m    456\u001b[0m \u001b[43m        \u001b[49m\u001b[43mn_jobs\u001b[49m\u001b[38;5;241;43m=\u001b[39;49m\u001b[43mn_jobs\u001b[49m\u001b[43m,\u001b[49m\n\u001b[0;32m    457\u001b[0m \u001b[43m        \u001b[49m\u001b[43mcatch\u001b[49m\u001b[38;5;241;43m=\u001b[39;49m\u001b[38;5;28;43mtuple\u001b[39;49m\u001b[43m(\u001b[49m\u001b[43mcatch\u001b[49m\u001b[43m)\u001b[49m\u001b[43m \u001b[49m\u001b[38;5;28;43;01mif\u001b[39;49;00m\u001b[43m \u001b[49m\u001b[38;5;28;43misinstance\u001b[39;49m\u001b[43m(\u001b[49m\u001b[43mcatch\u001b[49m\u001b[43m,\u001b[49m\u001b[43m \u001b[49m\u001b[43mIterable\u001b[49m\u001b[43m)\u001b[49m\u001b[43m \u001b[49m\u001b[38;5;28;43;01melse\u001b[39;49;00m\u001b[43m \u001b[49m\u001b[43m(\u001b[49m\u001b[43mcatch\u001b[49m\u001b[43m,\u001b[49m\u001b[43m)\u001b[49m\u001b[43m,\u001b[49m\n\u001b[0;32m    458\u001b[0m \u001b[43m        \u001b[49m\u001b[43mcallbacks\u001b[49m\u001b[38;5;241;43m=\u001b[39;49m\u001b[43mcallbacks\u001b[49m\u001b[43m,\u001b[49m\n\u001b[0;32m    459\u001b[0m \u001b[43m        \u001b[49m\u001b[43mgc_after_trial\u001b[49m\u001b[38;5;241;43m=\u001b[39;49m\u001b[43mgc_after_trial\u001b[49m\u001b[43m,\u001b[49m\n\u001b[0;32m    460\u001b[0m \u001b[43m        \u001b[49m\u001b[43mshow_progress_bar\u001b[49m\u001b[38;5;241;43m=\u001b[39;49m\u001b[43mshow_progress_bar\u001b[49m\u001b[43m,\u001b[49m\n\u001b[0;32m    461\u001b[0m \u001b[43m    \u001b[49m\u001b[43m)\u001b[49m\n",
      "File \u001b[1;32mc:\\Users\\Alex\\anaconda3\\envs\\pt\\Lib\\site-packages\\optuna\\study\\_optimize.py:62\u001b[0m, in \u001b[0;36m_optimize\u001b[1;34m(study, func, n_trials, timeout, n_jobs, catch, callbacks, gc_after_trial, show_progress_bar)\u001b[0m\n\u001b[0;32m     60\u001b[0m \u001b[38;5;28;01mtry\u001b[39;00m:\n\u001b[0;32m     61\u001b[0m     \u001b[38;5;28;01mif\u001b[39;00m n_jobs \u001b[38;5;241m==\u001b[39m \u001b[38;5;241m1\u001b[39m:\n\u001b[1;32m---> 62\u001b[0m         \u001b[43m_optimize_sequential\u001b[49m\u001b[43m(\u001b[49m\n\u001b[0;32m     63\u001b[0m \u001b[43m            \u001b[49m\u001b[43mstudy\u001b[49m\u001b[43m,\u001b[49m\n\u001b[0;32m     64\u001b[0m \u001b[43m            \u001b[49m\u001b[43mfunc\u001b[49m\u001b[43m,\u001b[49m\n\u001b[0;32m     65\u001b[0m \u001b[43m            \u001b[49m\u001b[43mn_trials\u001b[49m\u001b[43m,\u001b[49m\n\u001b[0;32m     66\u001b[0m \u001b[43m            \u001b[49m\u001b[43mtimeout\u001b[49m\u001b[43m,\u001b[49m\n\u001b[0;32m     67\u001b[0m \u001b[43m            \u001b[49m\u001b[43mcatch\u001b[49m\u001b[43m,\u001b[49m\n\u001b[0;32m     68\u001b[0m \u001b[43m            \u001b[49m\u001b[43mcallbacks\u001b[49m\u001b[43m,\u001b[49m\n\u001b[0;32m     69\u001b[0m \u001b[43m            \u001b[49m\u001b[43mgc_after_trial\u001b[49m\u001b[43m,\u001b[49m\n\u001b[0;32m     70\u001b[0m \u001b[43m            \u001b[49m\u001b[43mreseed_sampler_rng\u001b[49m\u001b[38;5;241;43m=\u001b[39;49m\u001b[38;5;28;43;01mFalse\u001b[39;49;00m\u001b[43m,\u001b[49m\n\u001b[0;32m     71\u001b[0m \u001b[43m            \u001b[49m\u001b[43mtime_start\u001b[49m\u001b[38;5;241;43m=\u001b[39;49m\u001b[38;5;28;43;01mNone\u001b[39;49;00m\u001b[43m,\u001b[49m\n\u001b[0;32m     72\u001b[0m \u001b[43m            \u001b[49m\u001b[43mprogress_bar\u001b[49m\u001b[38;5;241;43m=\u001b[39;49m\u001b[43mprogress_bar\u001b[49m\u001b[43m,\u001b[49m\n\u001b[0;32m     73\u001b[0m \u001b[43m        \u001b[49m\u001b[43m)\u001b[49m\n\u001b[0;32m     74\u001b[0m     \u001b[38;5;28;01melse\u001b[39;00m:\n\u001b[0;32m     75\u001b[0m         \u001b[38;5;28;01mif\u001b[39;00m n_jobs \u001b[38;5;241m==\u001b[39m \u001b[38;5;241m-\u001b[39m\u001b[38;5;241m1\u001b[39m:\n",
      "File \u001b[1;32mc:\\Users\\Alex\\anaconda3\\envs\\pt\\Lib\\site-packages\\optuna\\study\\_optimize.py:159\u001b[0m, in \u001b[0;36m_optimize_sequential\u001b[1;34m(study, func, n_trials, timeout, catch, callbacks, gc_after_trial, reseed_sampler_rng, time_start, progress_bar)\u001b[0m\n\u001b[0;32m    156\u001b[0m         \u001b[38;5;28;01mbreak\u001b[39;00m\n\u001b[0;32m    158\u001b[0m \u001b[38;5;28;01mtry\u001b[39;00m:\n\u001b[1;32m--> 159\u001b[0m     frozen_trial \u001b[38;5;241m=\u001b[39m \u001b[43m_run_trial\u001b[49m\u001b[43m(\u001b[49m\u001b[43mstudy\u001b[49m\u001b[43m,\u001b[49m\u001b[43m \u001b[49m\u001b[43mfunc\u001b[49m\u001b[43m,\u001b[49m\u001b[43m \u001b[49m\u001b[43mcatch\u001b[49m\u001b[43m)\u001b[49m\n\u001b[0;32m    160\u001b[0m \u001b[38;5;28;01mfinally\u001b[39;00m:\n\u001b[0;32m    161\u001b[0m     \u001b[38;5;66;03m# The following line mitigates memory problems that can be occurred in some\u001b[39;00m\n\u001b[0;32m    162\u001b[0m     \u001b[38;5;66;03m# environments (e.g., services that use computing containers such as GitHub Actions).\u001b[39;00m\n\u001b[0;32m    163\u001b[0m     \u001b[38;5;66;03m# Please refer to the following PR for further details:\u001b[39;00m\n\u001b[0;32m    164\u001b[0m     \u001b[38;5;66;03m# https://github.com/optuna/optuna/pull/325.\u001b[39;00m\n\u001b[0;32m    165\u001b[0m     \u001b[38;5;28;01mif\u001b[39;00m gc_after_trial:\n",
      "File \u001b[1;32mc:\\Users\\Alex\\anaconda3\\envs\\pt\\Lib\\site-packages\\optuna\\study\\_optimize.py:247\u001b[0m, in \u001b[0;36m_run_trial\u001b[1;34m(study, func, catch)\u001b[0m\n\u001b[0;32m    240\u001b[0m         \u001b[38;5;28;01massert\u001b[39;00m \u001b[38;5;28;01mFalse\u001b[39;00m, \u001b[38;5;124m\"\u001b[39m\u001b[38;5;124mShould not reach.\u001b[39m\u001b[38;5;124m\"\u001b[39m\n\u001b[0;32m    242\u001b[0m \u001b[38;5;28;01mif\u001b[39;00m (\n\u001b[0;32m    243\u001b[0m     frozen_trial\u001b[38;5;241m.\u001b[39mstate \u001b[38;5;241m==\u001b[39m TrialState\u001b[38;5;241m.\u001b[39mFAIL\n\u001b[0;32m    244\u001b[0m     \u001b[38;5;129;01mand\u001b[39;00m func_err \u001b[38;5;129;01mis\u001b[39;00m \u001b[38;5;129;01mnot\u001b[39;00m \u001b[38;5;28;01mNone\u001b[39;00m\n\u001b[0;32m    245\u001b[0m     \u001b[38;5;129;01mand\u001b[39;00m \u001b[38;5;129;01mnot\u001b[39;00m \u001b[38;5;28misinstance\u001b[39m(func_err, catch)\n\u001b[0;32m    246\u001b[0m ):\n\u001b[1;32m--> 247\u001b[0m     \u001b[38;5;28;01mraise\u001b[39;00m func_err\n\u001b[0;32m    248\u001b[0m \u001b[38;5;28;01mreturn\u001b[39;00m frozen_trial\n",
      "File \u001b[1;32mc:\\Users\\Alex\\anaconda3\\envs\\pt\\Lib\\site-packages\\optuna\\study\\_optimize.py:196\u001b[0m, in \u001b[0;36m_run_trial\u001b[1;34m(study, func, catch)\u001b[0m\n\u001b[0;32m    194\u001b[0m \u001b[38;5;28;01mwith\u001b[39;00m get_heartbeat_thread(trial\u001b[38;5;241m.\u001b[39m_trial_id, study\u001b[38;5;241m.\u001b[39m_storage):\n\u001b[0;32m    195\u001b[0m     \u001b[38;5;28;01mtry\u001b[39;00m:\n\u001b[1;32m--> 196\u001b[0m         value_or_values \u001b[38;5;241m=\u001b[39m \u001b[43mfunc\u001b[49m\u001b[43m(\u001b[49m\u001b[43mtrial\u001b[49m\u001b[43m)\u001b[49m\n\u001b[0;32m    197\u001b[0m     \u001b[38;5;28;01mexcept\u001b[39;00m exceptions\u001b[38;5;241m.\u001b[39mTrialPruned \u001b[38;5;28;01mas\u001b[39;00m e:\n\u001b[0;32m    198\u001b[0m         \u001b[38;5;66;03m# TODO(mamu): Handle multi-objective cases.\u001b[39;00m\n\u001b[0;32m    199\u001b[0m         state \u001b[38;5;241m=\u001b[39m TrialState\u001b[38;5;241m.\u001b[39mPRUNED\n",
      "Cell \u001b[1;32mIn[30], line 10\u001b[0m, in \u001b[0;36mobjective_xlm_roberta\u001b[1;34m(trial)\u001b[0m\n\u001b[0;32m      1\u001b[0m \u001b[38;5;28;01mdef\u001b[39;00m \u001b[38;5;21mobjective_xlm_roberta\u001b[39m(trial):\n\u001b[0;32m      2\u001b[0m     params \u001b[38;5;241m=\u001b[39m {\n\u001b[0;32m      3\u001b[0m         \u001b[38;5;124m'\u001b[39m\u001b[38;5;124mlr\u001b[39m\u001b[38;5;124m'\u001b[39m: trial\u001b[38;5;241m.\u001b[39msuggest_float(\u001b[38;5;124m'\u001b[39m\u001b[38;5;124mlr\u001b[39m\u001b[38;5;124m'\u001b[39m, \u001b[38;5;241m2e-5\u001b[39m, \u001b[38;5;241m5e-5\u001b[39m, log\u001b[38;5;241m=\u001b[39m\u001b[38;5;28;01mTrue\u001b[39;00m),\n\u001b[0;32m      4\u001b[0m         \u001b[38;5;124m'\u001b[39m\u001b[38;5;124mnum_epochs\u001b[39m\u001b[38;5;124m'\u001b[39m: trial\u001b[38;5;241m.\u001b[39msuggest_int(\u001b[38;5;124m'\u001b[39m\u001b[38;5;124mnum_epochs\u001b[39m\u001b[38;5;124m'\u001b[39m, \u001b[38;5;241m4\u001b[39m, \u001b[38;5;241m10\u001b[39m),\n\u001b[1;32m   (...)\u001b[0m\n\u001b[0;32m      8\u001b[0m         \u001b[38;5;124m'\u001b[39m\u001b[38;5;124mmodel_name\u001b[39m\u001b[38;5;124m'\u001b[39m : \u001b[38;5;124m'\u001b[39m\u001b[38;5;124mxlm-roberta-base\u001b[39m\u001b[38;5;124m'\u001b[39m,\n\u001b[0;32m      9\u001b[0m     }\n\u001b[1;32m---> 10\u001b[0m     val_accuracy, avg_val_loss, train_accuracy_valence, train_accuracy_energy, train_accuracy_danceability, train_loss \u001b[38;5;241m=\u001b[39m \u001b[43mtrain_and_evaluate\u001b[49m\u001b[43m(\u001b[49m\u001b[43mparams\u001b[49m\u001b[43m)\u001b[49m\n\u001b[0;32m     11\u001b[0m     trial\u001b[38;5;241m.\u001b[39mset_user_attr(\u001b[38;5;124m\"\u001b[39m\u001b[38;5;124mval_accuracy\u001b[39m\u001b[38;5;124m\"\u001b[39m, val_accuracy)\n\u001b[0;32m     12\u001b[0m     trial\u001b[38;5;241m.\u001b[39mset_user_attr(\u001b[38;5;124m\"\u001b[39m\u001b[38;5;124mavg_val_loss\u001b[39m\u001b[38;5;124m\"\u001b[39m, avg_val_loss)\n",
      "Cell \u001b[1;32mIn[23], line 53\u001b[0m, in \u001b[0;36mtrain_and_evaluate\u001b[1;34m(params)\u001b[0m\n\u001b[0;32m     51\u001b[0m outputs \u001b[38;5;241m=\u001b[39m model(input_ids, attention_mask\u001b[38;5;241m=\u001b[39mattention_mask, labels_valence\u001b[38;5;241m=\u001b[39mlabels_valence, labels_energy\u001b[38;5;241m=\u001b[39mlabels_energy, labels_danceability\u001b[38;5;241m=\u001b[39mlabels_danceability)\n\u001b[0;32m     52\u001b[0m loss, logits_valence, logits_energy, logits_danceability \u001b[38;5;241m=\u001b[39m outputs\n\u001b[1;32m---> 53\u001b[0m \u001b[43mloss\u001b[49m\u001b[38;5;241;43m.\u001b[39;49m\u001b[43mbackward\u001b[49m\u001b[43m(\u001b[49m\u001b[43m)\u001b[49m\n\u001b[0;32m     54\u001b[0m torch\u001b[38;5;241m.\u001b[39mnn\u001b[38;5;241m.\u001b[39mutils\u001b[38;5;241m.\u001b[39mclip_grad_norm_(model\u001b[38;5;241m.\u001b[39mparameters(), max_norm\u001b[38;5;241m=\u001b[39m\u001b[38;5;241m1.0\u001b[39m)\n\u001b[0;32m     55\u001b[0m optimizer\u001b[38;5;241m.\u001b[39mstep()\n",
      "File \u001b[1;32mc:\\Users\\Alex\\anaconda3\\envs\\pt\\Lib\\site-packages\\torch\\_tensor.py:525\u001b[0m, in \u001b[0;36mTensor.backward\u001b[1;34m(self, gradient, retain_graph, create_graph, inputs)\u001b[0m\n\u001b[0;32m    515\u001b[0m \u001b[38;5;28;01mif\u001b[39;00m has_torch_function_unary(\u001b[38;5;28mself\u001b[39m):\n\u001b[0;32m    516\u001b[0m     \u001b[38;5;28;01mreturn\u001b[39;00m handle_torch_function(\n\u001b[0;32m    517\u001b[0m         Tensor\u001b[38;5;241m.\u001b[39mbackward,\n\u001b[0;32m    518\u001b[0m         (\u001b[38;5;28mself\u001b[39m,),\n\u001b[1;32m   (...)\u001b[0m\n\u001b[0;32m    523\u001b[0m         inputs\u001b[38;5;241m=\u001b[39minputs,\n\u001b[0;32m    524\u001b[0m     )\n\u001b[1;32m--> 525\u001b[0m \u001b[43mtorch\u001b[49m\u001b[38;5;241;43m.\u001b[39;49m\u001b[43mautograd\u001b[49m\u001b[38;5;241;43m.\u001b[39;49m\u001b[43mbackward\u001b[49m\u001b[43m(\u001b[49m\n\u001b[0;32m    526\u001b[0m \u001b[43m    \u001b[49m\u001b[38;5;28;43mself\u001b[39;49m\u001b[43m,\u001b[49m\u001b[43m \u001b[49m\u001b[43mgradient\u001b[49m\u001b[43m,\u001b[49m\u001b[43m \u001b[49m\u001b[43mretain_graph\u001b[49m\u001b[43m,\u001b[49m\u001b[43m \u001b[49m\u001b[43mcreate_graph\u001b[49m\u001b[43m,\u001b[49m\u001b[43m \u001b[49m\u001b[43minputs\u001b[49m\u001b[38;5;241;43m=\u001b[39;49m\u001b[43minputs\u001b[49m\n\u001b[0;32m    527\u001b[0m \u001b[43m\u001b[49m\u001b[43m)\u001b[49m\n",
      "File \u001b[1;32mc:\\Users\\Alex\\anaconda3\\envs\\pt\\Lib\\site-packages\\torch\\autograd\\__init__.py:267\u001b[0m, in \u001b[0;36mbackward\u001b[1;34m(tensors, grad_tensors, retain_graph, create_graph, grad_variables, inputs)\u001b[0m\n\u001b[0;32m    262\u001b[0m     retain_graph \u001b[38;5;241m=\u001b[39m create_graph\n\u001b[0;32m    264\u001b[0m \u001b[38;5;66;03m# The reason we repeat the same comment below is that\u001b[39;00m\n\u001b[0;32m    265\u001b[0m \u001b[38;5;66;03m# some Python versions print out the first line of a multi-line function\u001b[39;00m\n\u001b[0;32m    266\u001b[0m \u001b[38;5;66;03m# calls in the traceback and some print out the last line\u001b[39;00m\n\u001b[1;32m--> 267\u001b[0m \u001b[43m_engine_run_backward\u001b[49m\u001b[43m(\u001b[49m\n\u001b[0;32m    268\u001b[0m \u001b[43m    \u001b[49m\u001b[43mtensors\u001b[49m\u001b[43m,\u001b[49m\n\u001b[0;32m    269\u001b[0m \u001b[43m    \u001b[49m\u001b[43mgrad_tensors_\u001b[49m\u001b[43m,\u001b[49m\n\u001b[0;32m    270\u001b[0m \u001b[43m    \u001b[49m\u001b[43mretain_graph\u001b[49m\u001b[43m,\u001b[49m\n\u001b[0;32m    271\u001b[0m \u001b[43m    \u001b[49m\u001b[43mcreate_graph\u001b[49m\u001b[43m,\u001b[49m\n\u001b[0;32m    272\u001b[0m \u001b[43m    \u001b[49m\u001b[43minputs\u001b[49m\u001b[43m,\u001b[49m\n\u001b[0;32m    273\u001b[0m \u001b[43m    \u001b[49m\u001b[43mallow_unreachable\u001b[49m\u001b[38;5;241;43m=\u001b[39;49m\u001b[38;5;28;43;01mTrue\u001b[39;49;00m\u001b[43m,\u001b[49m\n\u001b[0;32m    274\u001b[0m \u001b[43m    \u001b[49m\u001b[43maccumulate_grad\u001b[49m\u001b[38;5;241;43m=\u001b[39;49m\u001b[38;5;28;43;01mTrue\u001b[39;49;00m\u001b[43m,\u001b[49m\n\u001b[0;32m    275\u001b[0m \u001b[43m\u001b[49m\u001b[43m)\u001b[49m\n",
      "File \u001b[1;32mc:\\Users\\Alex\\anaconda3\\envs\\pt\\Lib\\site-packages\\torch\\autograd\\graph.py:744\u001b[0m, in \u001b[0;36m_engine_run_backward\u001b[1;34m(t_outputs, *args, **kwargs)\u001b[0m\n\u001b[0;32m    742\u001b[0m     unregister_hooks \u001b[38;5;241m=\u001b[39m _register_logging_hooks_on_whole_graph(t_outputs)\n\u001b[0;32m    743\u001b[0m \u001b[38;5;28;01mtry\u001b[39;00m:\n\u001b[1;32m--> 744\u001b[0m     \u001b[38;5;28;01mreturn\u001b[39;00m \u001b[43mVariable\u001b[49m\u001b[38;5;241;43m.\u001b[39;49m\u001b[43m_execution_engine\u001b[49m\u001b[38;5;241;43m.\u001b[39;49m\u001b[43mrun_backward\u001b[49m\u001b[43m(\u001b[49m\u001b[43m  \u001b[49m\u001b[38;5;66;43;03m# Calls into the C++ engine to run the backward pass\u001b[39;49;00m\n\u001b[0;32m    745\u001b[0m \u001b[43m        \u001b[49m\u001b[43mt_outputs\u001b[49m\u001b[43m,\u001b[49m\u001b[43m \u001b[49m\u001b[38;5;241;43m*\u001b[39;49m\u001b[43margs\u001b[49m\u001b[43m,\u001b[49m\u001b[43m \u001b[49m\u001b[38;5;241;43m*\u001b[39;49m\u001b[38;5;241;43m*\u001b[39;49m\u001b[43mkwargs\u001b[49m\n\u001b[0;32m    746\u001b[0m \u001b[43m    \u001b[49m\u001b[43m)\u001b[49m  \u001b[38;5;66;03m# Calls into the C++ engine to run the backward pass\u001b[39;00m\n\u001b[0;32m    747\u001b[0m \u001b[38;5;28;01mfinally\u001b[39;00m:\n\u001b[0;32m    748\u001b[0m     \u001b[38;5;28;01mif\u001b[39;00m attach_logging_hooks:\n",
      "\u001b[1;31mKeyboardInterrupt\u001b[0m: "
     ]
    }
   ],
   "source": [
    "logging.set_verbosity_error()\n",
    "study = optuna.create_study(direction='minimize')\n",
    "study.optimize(objective_xlm_roberta, n_trials=3)\n",
    "\n",
    "print('Best hyperparameters: ', study.best_params)\n",
    "print('Best value (negative validation loss): ', study.best_value)"
   ]
  },
  {
   "cell_type": "markdown",
   "metadata": {},
   "source": [
    "# Plotting"
   ]
  },
  {
   "cell_type": "code",
   "execution_count": 91,
   "metadata": {},
   "outputs": [
    {
     "data": {
      "image/png": "[encoded data removed]",
      "text/plain": [
       "<Figure size 1000x600 with 1 Axes>"
      ]
     },
     "metadata": {},
     "output_type": "display_data"
    }
   ],
   "source": [
    "import matplotlib.pyplot as plt\n",
    "\n",
    "time_DNN = 22.3 / 20\n",
    "time_bi_LSTM = (39.9 + (6 * 60))/20\n",
    "time_CNN = 28.3 / 20\n",
    "time_BERT = (52.5 + (6 * 60))/10\n",
    "time_RoBERTa = (56.5 + (9 * 60))/10\n",
    "time_XMLRoBERTa = (54 + (24 * 60))/2\n",
    "\n",
    "times = [time_DNN, time_bi_LSTM, time_CNN, time_BERT, time_RoBERTa]\n",
    "names = ['DNN', 'bi-LSTM', 'CNN', 'BERT', 'RoBERTa']\n",
    "\n",
    "sorted_data = sorted(zip(names, times), key=lambda x: x[1])\n",
    "sorted_names, sorted_times = zip(*sorted_data)\n",
    "\n",
    "plt.figure(figsize=(10, 6))\n",
    "bars = plt.bar(sorted_names, sorted_times, color='skyblue')\n",
    "plt.xlabel('Model')\n",
    "plt.ylabel('Time (s)')\n",
    "plt.title('Execution Time for Different Models per Each Trial')\n",
    "plt.xticks(rotation=45)\n",
    "plt.tight_layout()\n",
    "\n",
    "# Add time values at the top of each bar\n",
    "for bar, time in zip(bars, sorted_times):\n",
    "    plt.text(bar.get_x() + bar.get_width() / 2, bar.get_height(), f'{time:.1f}', ha='center', va='bottom')\n",
    "\n",
    "plt.show()"
   ]
  },
  {
   "cell_type": "code",
   "execution_count": 51,
   "metadata": {},
   "outputs": [
    {
     "name": "stdout",
     "output_type": "stream",
     "text": [
      "Epoch 1/20\n"
     ]
    },
    {
     "ename": "ValueError",
     "evalue": "Exception encountered when calling Functional.call().\n\n\u001b[1mInput 0 of layer \"dense\" is incompatible with the layer: expected axis -1 of input shape to have value 12288, but received input with shape (32, 96)\u001b[0m\n\nArguments received by Functional.call():\n  • inputs=tf.Tensor(shape=(32, 1), dtype=string)\n  • training=True\n  • mask=None",
     "output_type": "error",
     "traceback": [
      "\u001b[1;31m---------------------------------------------------------------------------\u001b[0m",
      "\u001b[1;31mValueError\u001b[0m                                Traceback (most recent call last)",
      "Cell \u001b[1;32mIn[51], line 2\u001b[0m\n\u001b[0;32m      1\u001b[0m best_model_DNN \u001b[38;5;241m=\u001b[39m dnn_tuner\u001b[38;5;241m.\u001b[39mget_best_models(num_models\u001b[38;5;241m=\u001b[39m\u001b[38;5;241m1\u001b[39m)[\u001b[38;5;241m0\u001b[39m]\n\u001b[1;32m----> 2\u001b[0m \u001b[43mbest_model_DNN\u001b[49m\u001b[38;5;241;43m.\u001b[39;49m\u001b[43mfit\u001b[49m\u001b[43m(\u001b[49m\u001b[43mX_train_val\u001b[49m\u001b[43m,\u001b[49m\u001b[43m \u001b[49m\u001b[43m[\u001b[49m\u001b[43my_train_val_valence\u001b[49m\u001b[43m,\u001b[49m\u001b[43m \u001b[49m\u001b[43my_train_val_energy\u001b[49m\u001b[43m,\u001b[49m\u001b[43m \u001b[49m\u001b[43my_train_val_danceability\u001b[49m\u001b[43m]\u001b[49m\u001b[43m,\u001b[49m\u001b[43m \u001b[49m\u001b[43mepochs\u001b[49m\u001b[38;5;241;43m=\u001b[39;49m\u001b[38;5;241;43m20\u001b[39;49m\u001b[43m)\u001b[49m\n",
      "File \u001b[1;32mc:\\Users\\Alex\\anaconda3\\envs\\pt\\Lib\\site-packages\\keras\\src\\utils\\traceback_utils.py:122\u001b[0m, in \u001b[0;36mfilter_traceback.<locals>.error_handler\u001b[1;34m(*args, **kwargs)\u001b[0m\n\u001b[0;32m    119\u001b[0m     filtered_tb \u001b[38;5;241m=\u001b[39m _process_traceback_frames(e\u001b[38;5;241m.\u001b[39m__traceback__)\n\u001b[0;32m    120\u001b[0m     \u001b[38;5;66;03m# To get the full stack trace, call:\u001b[39;00m\n\u001b[0;32m    121\u001b[0m     \u001b[38;5;66;03m# `keras.config.disable_traceback_filtering()`\u001b[39;00m\n\u001b[1;32m--> 122\u001b[0m     \u001b[38;5;28;01mraise\u001b[39;00m e\u001b[38;5;241m.\u001b[39mwith_traceback(filtered_tb) \u001b[38;5;28;01mfrom\u001b[39;00m \u001b[38;5;28;01mNone\u001b[39;00m\n\u001b[0;32m    123\u001b[0m \u001b[38;5;28;01mfinally\u001b[39;00m:\n\u001b[0;32m    124\u001b[0m     \u001b[38;5;28;01mdel\u001b[39;00m filtered_tb\n",
      "File \u001b[1;32mc:\\Users\\Alex\\anaconda3\\envs\\pt\\Lib\\site-packages\\keras\\src\\layers\\input_spec.py:227\u001b[0m, in \u001b[0;36massert_input_compatibility\u001b[1;34m(input_spec, inputs, layer_name)\u001b[0m\n\u001b[0;32m    222\u001b[0m     \u001b[38;5;28;01mfor\u001b[39;00m axis, value \u001b[38;5;129;01min\u001b[39;00m spec\u001b[38;5;241m.\u001b[39maxes\u001b[38;5;241m.\u001b[39mitems():\n\u001b[0;32m    223\u001b[0m         \u001b[38;5;28;01mif\u001b[39;00m value \u001b[38;5;129;01mis\u001b[39;00m \u001b[38;5;129;01mnot\u001b[39;00m \u001b[38;5;28;01mNone\u001b[39;00m \u001b[38;5;129;01mand\u001b[39;00m shape[axis] \u001b[38;5;129;01mnot\u001b[39;00m \u001b[38;5;129;01min\u001b[39;00m {\n\u001b[0;32m    224\u001b[0m             value,\n\u001b[0;32m    225\u001b[0m             \u001b[38;5;28;01mNone\u001b[39;00m,\n\u001b[0;32m    226\u001b[0m         }:\n\u001b[1;32m--> 227\u001b[0m             \u001b[38;5;28;01mraise\u001b[39;00m \u001b[38;5;167;01mValueError\u001b[39;00m(\n\u001b[0;32m    228\u001b[0m                 \u001b[38;5;124mf\u001b[39m\u001b[38;5;124m'\u001b[39m\u001b[38;5;124mInput \u001b[39m\u001b[38;5;132;01m{\u001b[39;00minput_index\u001b[38;5;132;01m}\u001b[39;00m\u001b[38;5;124m of layer \u001b[39m\u001b[38;5;124m\"\u001b[39m\u001b[38;5;132;01m{\u001b[39;00mlayer_name\u001b[38;5;132;01m}\u001b[39;00m\u001b[38;5;124m\"\u001b[39m\u001b[38;5;124m is \u001b[39m\u001b[38;5;124m'\u001b[39m\n\u001b[0;32m    229\u001b[0m                 \u001b[38;5;124mf\u001b[39m\u001b[38;5;124m\"\u001b[39m\u001b[38;5;124mincompatible with the layer: expected axis \u001b[39m\u001b[38;5;132;01m{\u001b[39;00maxis\u001b[38;5;132;01m}\u001b[39;00m\u001b[38;5;124m \u001b[39m\u001b[38;5;124m\"\u001b[39m\n\u001b[0;32m    230\u001b[0m                 \u001b[38;5;124mf\u001b[39m\u001b[38;5;124m\"\u001b[39m\u001b[38;5;124mof input shape to have value \u001b[39m\u001b[38;5;132;01m{\u001b[39;00mvalue\u001b[38;5;132;01m}\u001b[39;00m\u001b[38;5;124m, \u001b[39m\u001b[38;5;124m\"\u001b[39m\n\u001b[0;32m    231\u001b[0m                 \u001b[38;5;124m\"\u001b[39m\u001b[38;5;124mbut received input with \u001b[39m\u001b[38;5;124m\"\u001b[39m\n\u001b[0;32m    232\u001b[0m                 \u001b[38;5;124mf\u001b[39m\u001b[38;5;124m\"\u001b[39m\u001b[38;5;124mshape \u001b[39m\u001b[38;5;132;01m{\u001b[39;00mshape\u001b[38;5;132;01m}\u001b[39;00m\u001b[38;5;124m\"\u001b[39m\n\u001b[0;32m    233\u001b[0m             )\n\u001b[0;32m    234\u001b[0m \u001b[38;5;66;03m# Check shape.\u001b[39;00m\n\u001b[0;32m    235\u001b[0m \u001b[38;5;28;01mif\u001b[39;00m spec\u001b[38;5;241m.\u001b[39mshape \u001b[38;5;129;01mis\u001b[39;00m \u001b[38;5;129;01mnot\u001b[39;00m \u001b[38;5;28;01mNone\u001b[39;00m:\n",
      "\u001b[1;31mValueError\u001b[0m: Exception encountered when calling Functional.call().\n\n\u001b[1mInput 0 of layer \"dense\" is incompatible with the layer: expected axis -1 of input shape to have value 12288, but received input with shape (32, 96)\u001b[0m\n\nArguments received by Functional.call():\n  • inputs=tf.Tensor(shape=(32, 1), dtype=string)\n  • training=True\n  • mask=None"
     ]
    }
   ],
   "source": [
    "best_model_DNN = dnn_tuner.get_best_models(num_models=1)[0]\n",
    "best_model_DNN.fit(X_train_val, [y_train_val_valence, y_train_val_energy, y_train_val_danceability], epochs=20)"
   ]
  },
  {
   "cell_type": "code",
   "execution_count": 43,
   "metadata": {},
   "outputs": [
    {
     "name": "stdout",
     "output_type": "stream",
     "text": [
      "{'embedding_output_dim': 96, 'filters': 96, 'kernel_size': 7, 'pool_size': 5, 'num_layers': 3, 'dense_units_1': 288, 'dropout_1': 0.0, 'optimizer': 'rmsprop', 'learning_rate': 0.001, 'dense_units_2': 224, 'dropout_2': 0.30000000000000004, 'dense_units_3': 32, 'dropout_3': 0.0}\n"
     ]
    }
   ],
   "source": [
    "best_model_CNN = tuner_CNN.get_best_models(num_models=1)[0]\n",
    "best_hyperparameters_CNN = tuner_CNN.get_best_hyperparameters(num_trials=1)[0]\n",
    "print(best_hyperparameters_CNN.values)"
   ]
  },
  {
   "cell_type": "code",
   "execution_count": 92,
   "metadata": {},
   "outputs": [
    {
     "name": "stdout",
     "output_type": "stream",
     "text": [
      "Metrics for model bi_lstm_mood_detection:\n",
      "  val_danceability_acc: 0.5104166865348816\n",
      "  val_energy_acc: 0.46875\n",
      "  val_valence_acc: 0.5\n",
      "  val_loss: 3.490560531616211\n",
      "  danceability_acc: 0.5859375\n",
      "  energy_acc: 0.7942708134651184\n",
      "  valence_acc: 0.5755208134651184\n",
      "  loss: 3.2958500385284424\n",
      "----------------------------------------\n",
      "Metrics for model cnn_mood_detection_600:\n",
      "  val_danceability_acc: 0.4791666567325592\n",
      "  val_energy_acc: 0.4375\n",
      "  val_valence_acc: 0.5625\n",
      "  val_loss: 3.592888593673706\n",
      "  danceability_acc: 0.7421875\n",
      "  energy_acc: 0.6979166865348816\n",
      "  valence_acc: 0.7864583134651184\n",
      "  loss: 3.3026647567749023\n",
      "----------------------------------------\n",
      "Metrics for model dnn_mood_detection_600:\n",
      "  val_danceability_acc: 0.5\n",
      "  val_energy_acc: 0.4583333432674408\n",
      "  val_valence_acc: 0.5520833134651184\n",
      "  val_loss: 4.224305629730225\n",
      "  danceability_acc: 0.9427083134651184\n",
      "  energy_acc: 0.8958333134651184\n",
      "  valence_acc: 0.9401041865348816\n",
      "  loss: 3.6141910552978516\n",
      "----------------------------------------\n"
     ]
    }
   ],
   "source": [
    "import os\n",
    "import json\n",
    "\n",
    "def get_metric_value(metrics, key, default_value=None):\n",
    "    \"\"\"\n",
    "    Helper function to safely extract metric value from the metrics dictionary.\n",
    "    \"\"\"\n",
    "    if key in metrics:\n",
    "        return metrics[key]['observations'][0]['value'][0]\n",
    "    else:\n",
    "        return default_value\n",
    "\n",
    "def read_trial_metrics(trial_dir):\n",
    "    trial_json = os.path.join(trial_dir, 'trial.json')\n",
    "    with open(trial_json, 'r') as f:\n",
    "        trial_data = json.load(f)\n",
    "\n",
    "    metrics = trial_data['metrics']['metrics']\n",
    "\n",
    "    val_danceability_acc = get_metric_value(metrics, 'val_danceability_output_accuracy')\n",
    "    val_energy_acc = get_metric_value(metrics, 'val_energy_output_accuracy')\n",
    "    val_valence_acc = get_metric_value(metrics, 'val_valence_output_accuracy')\n",
    "    val_loss = get_metric_value(metrics, 'val_loss')\n",
    "\n",
    "    danceability_acc = get_metric_value(metrics, 'danceability_output_accuracy')\n",
    "    energy_acc = get_metric_value(metrics, 'energy_output_accuracy')\n",
    "    valence_acc = get_metric_value(metrics, 'valence_output_accuracy')\n",
    "    loss = get_metric_value(metrics, 'loss')\n",
    "\n",
    "    return {\n",
    "        'val_danceability_acc': val_danceability_acc,\n",
    "        'val_energy_acc': val_energy_acc,\n",
    "        'val_valence_acc': val_valence_acc,\n",
    "        'val_loss': val_loss,\n",
    "        'danceability_acc': danceability_acc,\n",
    "        'energy_acc': energy_acc,\n",
    "        'valence_acc': valence_acc,\n",
    "        'loss': loss\n",
    "    }\n",
    "\n",
    "# Specify the parent directory containing the model folders\n",
    "parent_dir = 'tuner_dir'\n",
    "\n",
    "# Dictionary to store metrics for each model\n",
    "all_model_metrics = {}\n",
    "\n",
    "for model_dir in ['bi_lstm_mood_detection', 'cnn_mood_detection_600', 'dnn_mood_detection_600']:\n",
    "    model_path = os.path.join(parent_dir, model_dir)\n",
    "\n",
    "    # Dictionary to store metrics for all trials in this model\n",
    "    model_metrics = {\n",
    "        'val_danceability_acc': [],\n",
    "        'val_energy_acc': [],\n",
    "        'val_valence_acc': [],\n",
    "        'val_loss': [],\n",
    "        'danceability_acc': [],\n",
    "        'energy_acc': [],\n",
    "        'valence_acc': [],\n",
    "        'loss': []\n",
    "    }\n",
    "\n",
    "    for trial_dir in os.listdir(model_path):\n",
    "        if trial_dir.startswith('trial'):\n",
    "            trial_path = os.path.join(model_path, trial_dir)\n",
    "            metrics = read_trial_metrics(trial_path)\n",
    "            # Append metrics to the respective lists in this model's dictionary\n",
    "            model_metrics['val_danceability_acc'].append(metrics['val_danceability_acc'])\n",
    "            model_metrics['val_energy_acc'].append(metrics['val_energy_acc'])\n",
    "            model_metrics['val_valence_acc'].append(metrics['val_valence_acc'])\n",
    "            model_metrics['val_loss'].append(metrics['val_loss'])\n",
    "            model_metrics['danceability_acc'].append(metrics['danceability_acc'])\n",
    "            model_metrics['energy_acc'].append(metrics['energy_acc'])\n",
    "            model_metrics['valence_acc'].append(metrics['valence_acc'])\n",
    "            model_metrics['loss'].append(metrics['loss'])\n",
    "    \n",
    "    valid_indices = [i for i, _ in enumerate(model_metrics['val_danceability_acc']) \n",
    "                     if None not in [model_metrics['val_danceability_acc'][i], \n",
    "                                     model_metrics['val_energy_acc'][i], \n",
    "                                     model_metrics['val_valence_acc'][i], \n",
    "                                     model_metrics['val_loss'][i], \n",
    "                                     model_metrics['danceability_acc'][i], \n",
    "                                     model_metrics['energy_acc'][i], \n",
    "                                     model_metrics['valence_acc'][i], \n",
    "                                     model_metrics['loss'][i]]]\n",
    "\n",
    "    for key in model_metrics.keys():\n",
    "        model_metrics[key] = [model_metrics[key][i] for i in valid_indices]\n",
    "        \n",
    "    # Store this model's metrics in the all_model_metrics dictionary\n",
    "    all_model_metrics[model_dir] = model_metrics\n",
    "    \n",
    "for model, metrics in all_model_metrics.items():\n",
    "    print(f\"Metrics for model {model}:\")\n",
    "    for key, value in metrics.items():\n",
    "        print(f\"  {key}: {max(value)}\")\n",
    "    print('-' * 40)"
   ]
  },
  {
   "cell_type": "code",
   "execution_count": 85,
   "metadata": {},
   "outputs": [
    {
     "data": {
      "text/plain": [
       "[[0.9224501450856527,\n",
       "  1.0530083974202473,\n",
       "  1.0984963575998943,\n",
       "  1.098208745320638,\n",
       "  1.044472614924113,\n",
       "  1.0947991212209065,\n",
       "  1.0206006368001301,\n",
       "  0.7325826485951742,\n",
       "  1.0986166795094807,\n",
       "  1.0504244963328044],\n",
       " [1.0762996673583984,\n",
       "  0.6049405733744303,\n",
       "  1.0956312815348308,\n",
       "  1.0989739100138347,\n",
       "  1.1008882522583008,\n",
       "  0.6532369057337443,\n",
       "  0.9625391165415446,\n",
       "  1.0994125207265217,\n",
       "  1.0992233753204346,\n",
       "  1.0979870955149333],\n",
       " [0.5978571971257528,\n",
       "  1.2047303517659504,\n",
       "  0.3173330823580424,\n",
       "  0.5166002511978149,\n",
       "  1.110098123550415,\n",
       "  1.0535926818847656,\n",
       "  1.142900864283244,\n",
       "  1.0970548788706462]]"
      ]
     },
     "execution_count": 85,
     "metadata": {},
     "output_type": "execute_result"
    }
   ],
   "source": [
    "import matplotlib.pyplot as plt\n",
    "val_list = ['val_danceability_acc', 'val_energy_acc', 'val_valence_acc']\n",
    "acc_list = ['danceability_acc', 'energy_acc', 'valence_acc']\n",
    "\n",
    "def var_sum(dict, selected_list):\n",
    "    val_total = []\n",
    "    for element in dict.values():\n",
    "        val_acc_sum = []\n",
    "        for i in range(len(element['val_danceability_acc'])):\n",
    "            danceability = element['loss'][i]/3\n",
    "            val_acc_sum.append(danceability)  \n",
    "        val_total.append(val_acc_sum)\n",
    "\n",
    "    return val_total\n",
    "var_sum(all_model_metrics, val_list)"
   ]
  },
  {
   "cell_type": "code",
   "execution_count": 86,
   "metadata": {},
   "outputs": [],
   "source": [
    "loss = var_sum(all_model_metrics, val_list)"
   ]
  },
  {
   "cell_type": "code",
   "execution_count": 81,
   "metadata": {},
   "outputs": [
    {
     "data": {
      "image/png": "[encoded data removed]",
      "text/plain": [
       "<Figure size 640x480 with 1 Axes>"
      ]
     },
     "metadata": {},
     "output_type": "display_data"
    }
   ],
   "source": [
    "# Sample data (replace with your own lists)\n",
    "dnn_val_accuracy, lstm_val_accuracy, cnn_val_accuracy = var_sum(all_model_metrics, val_list)\n",
    "bert_tuned_val_accuracy = [41.32, 49.65, 42.36, 44.10, 50.69, 50.35, 46.53, 47.57, 51.74, 43.06]\n",
    "roberta_tuned_val_accuracy = [36.11, 39.24, 37.15, 38.89, 42.01, 44.79, 51.04, 42.01, 40.62, 42.36]\n",
    "\n",
    "# Create a figure and axis object\n",
    "fig, ax = plt.subplots()\n",
    "\n",
    "# Create the box plot\n",
    "box_plot_accuracy = [dnn_val_accuracy, lstm_val_accuracy, cnn_val_accuracy, bert_tuned_val_accuracy, roberta_tuned_val_accuracy]\n",
    "box = ax.boxplot(box_plot_accuracy, vert=True, patch_artist=True)\n",
    "\n",
    "# Customize the appearance\n",
    "ax.set_title('Average Validation Accuracy of Different Models')\n",
    "ax.set_xlabel('Models')\n",
    "ax.set_ylabel('Percentage Validation Accuracy (%)')\n",
    "\n",
    "# Set the x-axis tick labels\n",
    "ax.set_xticks([1, 2, 3, 4, 5])\n",
    "ax.set_xticklabels(['DNN', 'Bi-LSTM', 'CNN', 'BERT', 'RoBERTa'])\n",
    "\n",
    "# Show the plot\n",
    "plt.show()"
   ]
  },
  {
   "cell_type": "code",
   "execution_count": 78,
   "metadata": {},
   "outputs": [],
   "source": [
    "roberta_list_acc = [\n",
    "    \"valence 37.76%, energy 44.53%, danceability 47.92%\",\n",
    "    \"valence 38.28%, energy 40.62%, danceability 42.97%\",\n",
    "    \"valence 36.46%, energy 44.27%, danceability 44.01%\",\n",
    "    \"valence 36.72%, energy 40.62%, danceability 42.71%\",\n",
    "    \"valence 58.85%, energy 64.06%, danceability 63.54%\",\n",
    "    \"valence 50.26%, energy 51.56%, danceability 53.12%\",\n",
    "    \"valence 86.46%, energy 86.72%, danceability 82.55%\",\n",
    "    \"valence 44.79%, energy 47.66%, danceability 55.73%\",\n",
    "    \"valence 36.98%, energy 44.53%, danceability 45.57%\",\n",
    "    \"valence 76.56%, energy 65.89%, danceability 69.01%\"\n",
    "]\n",
    "\n",
    "bert_list_acc = [\n",
    "    \"valence 46.88%, energy 46.09%, danceability 61.46%\",\n",
    "    \"valence 77.60%, energy 73.96%, danceability 81.51%\",\n",
    "    \"valence 45.57%, energy 52.08%, danceability 64.06%\",\n",
    "    \"valence 60.68%, energy 52.60%, danceability 59.90%\",\n",
    "    \"valence 69.01%, energy 72.92%, danceability 76.82%\",\n",
    "    \"valence 83.07%, energy 85.42%, danceability 84.38%\",\n",
    "    \"valence 69.53%, energy 60.94%, danceability 67.97%\",\n",
    "    \"valence 77.60%, energy 66.15%, danceability 63.54%\",\n",
    "    \"valence 64.32%, energy 73.18%, danceability 83.07%\",\n",
    "    \"valence 40.62%, energy 45.31%, danceability 47.14%\"\n",
    "]\n",
    "\n",
    "bert_numeric_acc = [\n",
    "    [float(value.split('%')[0].split(' ')[-1]) for value in row.split(', ')]\n",
    "    for row in bert_list_acc\n",
    "]\n",
    "\n",
    "roberta_numeric_acc = [\n",
    "    [float(value.split('%')[0].split(' ')[-1]) for value in row.split(', ')]\n",
    "    for row in roberta_list_acc\n",
    "]\n",
    "\n",
    "bert_valence_values = [val[0] for val in bert_numeric_acc]\n",
    "bert_energy_values = [val[1] for val in bert_numeric_acc]\n",
    "bert_danceability_values = [val[2] for val in bert_numeric_acc]\n",
    "\n",
    "roberta_valence_values = [val[0] for val in roberta_numeric_acc]\n",
    "roberta_energy_values = [val[1] for val in roberta_numeric_acc]\n",
    "roberta_danceability_values = [val[2] for val in roberta_numeric_acc]\n",
    "\n",
    "def sum_acc(a_list):\n",
    "    bert_valence_values, bert_energy_values, bert_danceability_values = a_list\n",
    "    average_values = []\n",
    "    for i in range(len(bert_valence_values)):\n",
    "        valence = bert_valence_values[i]\n",
    "        energy = bert_energy_values[i]\n",
    "        danceability = bert_danceability_values[i]\n",
    "        average = round((valence + energy + danceability) / 3, 2)\n",
    "        average_values.append(average)\n",
    "    return average_values\n",
    "\n",
    "bert_average_values = sum_acc([bert_valence_values, bert_energy_values, bert_danceability_values])\n",
    "roberta_average_values = sum_acc([roberta_valence_values, roberta_energy_values, roberta_danceability_values])\n"
   ]
  },
  {
   "cell_type": "code",
   "execution_count": 82,
   "metadata": {},
   "outputs": [
    {
     "data": {
      "image/png": "[encoded data removed]",
      "text/plain": [
       "<Figure size 640x480 with 1 Axes>"
      ]
     },
     "metadata": {},
     "output_type": "display_data"
    }
   ],
   "source": [
    "dnn_accuracy, lstm_accuracy, cnn_accuracy = var_sum(all_model_metrics, acc_list)\n",
    "box_plot_train_accuracy = [dnn_accuracy, lstm_accuracy, cnn_accuracy, bert_average_values, roberta_average_values]\n",
    "\n",
    "fig, ax = plt.subplots()\n",
    "box = ax.boxplot(box_plot_train_accuracy, vert=True, patch_artist=True)\n",
    "\n",
    "# Customize the appearance\n",
    "ax.set_title('Average Training Accuracy of Different Models')\n",
    "ax.set_xlabel('Models')\n",
    "ax.set_ylabel('Percentage Accuracy (%)')\n",
    "\n",
    "# Set the x-axis tick labels\n",
    "ax.set_xticks([1, 2, 3, 4, 5])\n",
    "ax.set_xticklabels(['DNN', 'Bi-LSTM', 'CNN', 'BERT', 'RoBERTa'])\n",
    "\n",
    "# Show the plot\n",
    "plt.show()"
   ]
  },
  {
   "cell_type": "code",
   "execution_count": 90,
   "metadata": {},
   "outputs": [
    {
     "data": {
      "image/png": "[encoded data removed]",
      "text/plain": [
       "<Figure size 640x480 with 1 Axes>"
      ]
     },
     "metadata": {},
     "output_type": "display_data"
    }
   ],
   "source": [
    "bert_loss = [3.2556811571121216, 3.0864136616388955, 3.191865086555481, 3.112999598185221, 3.108652035395304, 3.0938605467478433, 3.1062621672948203, 3.0847971439361572, 2.9503024419148765, 3.2274989684422812]\n",
    "roberta_loss = [1.1033253073692322, 1.1011657118797302, 1.1023189822832744, 1.0924159089724224, 1.0849867661794026, 1.0950578451156616, 1.1655245820681255, 1.100628137588501, 1.0942775408426921, 1.135833462079366]\n",
    "bert_loss = [value/3 for value in bert_loss]\n",
    "dnn_loss, lstm_loss, cnn_loss = loss\n",
    "box_plot_test_loss = [dnn_loss, lstm_loss, cnn_loss, bert_loss, roberta_loss]\n",
    "fig, ax = plt.subplots()\n",
    "box = ax.boxplot(box_plot_test_loss, vert=True, patch_artist=True)\n",
    "\n",
    "# Customize the appearance\n",
    "ax.set_title('Average Train Loss of Different Models')\n",
    "ax.set_xlabel('Models')\n",
    "ax.set_ylabel('Loss')\n",
    "\n",
    "# Set the x-axis tick labels\n",
    "ax.set_xticks([1, 2, 3, 4, 5])\n",
    "ax.set_xticklabels(['DNN', 'Bi-LSTM', 'CNN', 'BERT', 'RoBERTa'])\n",
    "\n",
    "# Show the plot\n",
    "plt.show()"
   ]
  }
 ],
 "metadata": {
  "kernelspec": {
   "display_name": "Python 3.10.2 64-bit",
   "language": "python",
   "name": "python3"
  },
  "language_info": {
   "codemirror_mode": {
    "name": "ipython",
    "version": 3
   },
   "file_extension": ".py",
   "mimetype": "text/x-python",
   "name": "python",
   "nbconvert_exporter": "python",
   "pygments_lexer": "ipython3",
   "version": "3.11.9"
  },
  "orig_nbformat": 4,
  "vscode": {
   "interpreter": {
    "hash": "aee8b7b246df8f9039afb4144a1f6fd8d2ca17a180786b69acc140d282b71a49"
   }
  }
 },
 "nbformat": 4,
 "nbformat_minor": 2
}
